{
 "cells": [
  {
   "cell_type": "markdown",
   "metadata": {},
   "source": [
    "# Tutors Lecture\n",
    "\n",
    "- [Overview](#Overview)\n",
    "- [Responsibilities](#Responsibilities)\n",
    "- [Properly assisting students](#Properly-assisting-students)\n",
    "- [Tutorial assignments](#Tutorial-assignments)\n",
    "- [Group project](#Group-project)\n",
    "- [Python2 vs Python3](#Python2-vs-Python3)\n",
    "- [Other Changes](#Other-Changes)\n",
    "- [Octave vs Python](#Octave-vs-Python)"
   ]
  },
  {
   "cell_type": "markdown",
   "metadata": {},
   "source": [
    "## Overview\n",
    "\n",
    "### Purpose of the tutorial\n",
    "\n",
    "- Place for students to get help with problems and concepts they are struggling with\n",
    "\n",
    "\n",
    "- Tutorial session are optional for students\n",
    "\n",
    "\n",
    "- Expected that the students do the problems at home and come to the tutorial session for help\n",
    "\n",
    "\n",
    "- TA’s and tutors are there to assist students with understanding and mastering concepts\n",
    "\n",
    "\n",
    "- TA’s and tutors are not there to solve the problems for the students or debug any code for the students"
   ]
  },
  {
   "cell_type": "markdown",
   "metadata": {},
   "source": [
    "### Access on ClickUP\n",
    "\n",
    "- TA’s and tutors $\\to$ Will have direct access to the MPR213 module on ClickUP (I.e. listed as one of their modules)\n",
    "- Lecture notes also available on github (https://github.com/mpr213/lecture-notes)"
   ]
  },
  {
   "cell_type": "markdown",
   "metadata": {},
   "source": [
    "### Process / Work-flow for tutorials\n",
    "\n",
    "- Monday (week before) announce concepts cover in next weeks tutorial sessions\n",
    "\n",
    "\n",
    "- TA’s and tutors must spend at least 2 hours per week going over these concepts and relevant questions in the study notes\n",
    "\n",
    "\n",
    "- Tutors must schedule meetings with the TA’s if they require assistance\n",
    "\n",
    "\n",
    "- Attend 2 hour tutorial session\n",
    "\n",
    "\n",
    "- TA’s will take attendance\n",
    "\n",
    "\n",
    "- Meet the TA’s responsible for each tutorial session"
   ]
  },
  {
   "cell_type": "markdown",
   "metadata": {},
   "source": [
    "## Responsibilities\n",
    "\n",
    "### TA responsibilities\n",
    "\n",
    "- Work through the concepts and relevant questions in the study notes\n",
    "\n",
    "\n",
    "- Oversee the tutorial session\n",
    "\n",
    "\n",
    "- Ensure the Tutors have gone through the relevant material\n",
    "\n",
    "\n",
    "- Make any announcements if needed\n",
    "\n",
    "\n",
    "- Take attendance during tutorial sessions\n",
    "\n",
    "\n",
    "- Collect feedback from the Tutors and students (I.e. note which concepts / problems many of the students are struggling with)\n",
    "\n",
    "\n",
    "- Email feedback to me"
   ]
  },
  {
   "cell_type": "markdown",
   "metadata": {},
   "source": [
    "### Tutor responsibilities\n",
    "\n",
    "- Ensure you schedule a training session meeting with the TA, if you missed this training session.\n",
    "\n",
    "\n",
    "- Work through the concepts and relevant questions in the study notes\n",
    "\n",
    "\n",
    "- Collect feedback from the students (I.e. note which concepts / problems many of the students are struggling with)\n",
    "\n",
    "\n",
    "- Give this feedback to the TA’s"
   ]
  },
  {
   "cell_type": "markdown",
   "metadata": {},
   "source": [
    "## Properly assisting students\n",
    "\n",
    "### How to properly assist students\n",
    "\n",
    "- Don’t do the work for the student\n",
    "\n",
    "\n",
    "- Don’t solve the problem for the student\n",
    "\n",
    "\n",
    "- Highlight the concept/s the student is struggling with for a given problem\n",
    "\n",
    "\n",
    "- Guide the student through understanding that concept/s\n",
    "\n",
    "\n",
    "- Make use of easier example problems that explain that concept\n",
    "\n",
    "\n",
    "- Help the student break complex problems down into logical programming concepts (no code)"
   ]
  },
  {
   "cell_type": "markdown",
   "metadata": {},
   "source": [
    "- Don’t fix mistakes for the students\n",
    "\n",
    "\n",
    "- Don’t debug the code for the student\n",
    "\n",
    "\n",
    "- Explain the meaning of the Python Trace Back Errors\n",
    "\n",
    "\n",
    "- Explain possible / likely reasons for this type of error\n",
    "\n",
    "\n",
    "- Show the student how to find in which line the Error happened\n",
    "\n",
    "\n",
    "- The students need to debug their own code\n",
    "\n",
    "\n",
    "- TA’s and tutors should only guide the debug process"
   ]
  },
  {
   "cell_type": "markdown",
   "metadata": {},
   "source": [
    "## Tutorial assignments\n",
    "\n",
    "- Students will be handing in tutorial assignments for marks\n",
    "\n",
    "\n",
    "- Questions for hand-in will be announced each Monday\n",
    "\n",
    "\n",
    "- No marking required by TA’s or Tutors $\\to$ Electronically marks by a PC\n",
    "\n",
    "\n",
    "- Students may ask for help with the problems they have to hand in\n",
    "\n",
    "\n",
    "- Imperative not to do the work for the students and follow the rules mentioned above\n",
    "\n",
    "\n",
    "- Doing the work for the student $\\to$ constitutes plagiarism\n",
    "\n",
    "\n",
    "- Unsure how to help the student $\\to$ ask the TA for help\n",
    "\n",
    "\n",
    "- Still unsure how to help the student $\\to$ ask the student to come see Mr. Logan Page or Dr. Nico Wilke"
   ]
  },
  {
   "cell_type": "markdown",
   "metadata": {},
   "source": [
    "## Group project\n",
    "\n",
    "- Tutors are not required to assist students with their group project\n",
    "\n",
    "\n",
    "- Only TA’s are required to assist students with their group project (during their consultation hours)\n",
    "\n",
    "\n",
    "- All TA’s are required to:\n",
    "    - Familiarise yourself with the game (**TBC**)\n",
    "    - Learn the rules of the game and read the project guide\n",
    "    - Write an AI player for the game $\\to$ in order to better understand the struggles the students may experience\n",
    "    - Assist students with their AI player (following the rules mentioned above)\n",
    "\n",
    "\n",
    "- Students should come see you as a group, not just one student from a group\n",
    "\n",
    "\n",
    "- Students must have made some sort of attempt at programming their AI player"
   ]
  },
  {
   "cell_type": "markdown",
   "metadata": {},
   "source": [
    "## Python2 vs Python3\n",
    "\n",
    "- This year we will be using *Python3.5* and the software [Anaconda](https://www.continuum.io/downloads)\n",
    "\n",
    "\n",
    "### The `print` function\n",
    "\n",
    "- The `print` statement is now a `print` function\n",
    "\n",
    "```python\n",
    "# Python2.7\n",
    "print 34.23\n",
    "```"
   ]
  },
  {
   "cell_type": "code",
   "execution_count": null,
   "metadata": {
    "collapsed": false
   },
   "outputs": [],
   "source": [
    "# Python3.5\n",
    "print(34.23)"
   ]
  },
  {
   "cell_type": "markdown",
   "metadata": {},
   "source": [
    "### The `range` object\n",
    "\n",
    "- The `range` function is now a `range` object\n",
    "- No `xrange` object in *Python3.5*\n",
    "- Need to type cast (convert) from the `range` object to a `list` or `array` to see the values"
   ]
  },
  {
   "cell_type": "code",
   "execution_count": null,
   "metadata": {
    "collapsed": false
   },
   "outputs": [],
   "source": [
    "import numpy as np\n",
    "\n",
    "inds = range(10)\n",
    "\n",
    "print(inds)\n",
    "print(type(inds))\n",
    "print(list(inds))\n",
    "print(np.array(inds))"
   ]
  },
  {
   "cell_type": "markdown",
   "metadata": {},
   "source": [
    "### No integer division issues\n",
    "\n",
    "- No need to worry about integer division (default is `float` division)\n",
    "- Can still force integer division\n",
    "\n",
    "```python\n",
    "# Python2.7\n",
    "2 / 3  # --> 0\n",
    "2 / 3.0  # --> 0.666666\n",
    "```"
   ]
  },
  {
   "cell_type": "code",
   "execution_count": null,
   "metadata": {
    "collapsed": false
   },
   "outputs": [],
   "source": [
    "# Python3.5\n",
    "print(2 / 3)\n",
    "print(2 // 3)"
   ]
  },
  {
   "cell_type": "markdown",
   "metadata": {},
   "source": [
    "### The `input` function\n",
    "\n",
    "- The `input` function **always** returns a `str` object\n",
    "- No `raw_input` function in *Python3.5*\n",
    "- Need to type case (convert) input"
   ]
  },
  {
   "cell_type": "code",
   "execution_count": null,
   "metadata": {
    "collapsed": false
   },
   "outputs": [],
   "source": [
    "user = input(\"Enter a number: \")\n",
    "ans = float(user)\n",
    "\n",
    "print(type(user))\n",
    "print(type(ans))"
   ]
  },
  {
   "cell_type": "markdown",
   "metadata": {},
   "source": [
    "### Rounding\n",
    "\n",
    "- *Python3.5* now implements \"round half to even\", also known as [bakers rounding](https://en.wikipedia.org/wiki/Rounding#Round_half_to_even)"
   ]
  },
  {
   "cell_type": "code",
   "execution_count": null,
   "metadata": {
    "collapsed": false
   },
   "outputs": [],
   "source": [
    "print(round(2.5))\n",
    "print(round(1.5))"
   ]
  },
  {
   "cell_type": "markdown",
   "metadata": {},
   "source": [
    "## Other Changes\n",
    "\n",
    "- Replaced the `math` and `random` modules with the `numpy` module\n",
    "    - `math` and `random` are in any case wrapped in `numpy` so they were removed\n",
    "\n",
    "\n",
    "- Removed `str` operators and old `%` string formatting\n",
    "    - String operators are actually useless when using the new `{}` string formatting properly so they were removed\n",
    "    - New `{}` placeholder \"replaces\" the old `%` placeholder"
   ]
  },
  {
   "cell_type": "code",
   "execution_count": null,
   "metadata": {
    "collapsed": false
   },
   "outputs": [],
   "source": [
    "msg = \"a = {}; b = {}\"\n",
    "print(msg.format(10, 50))"
   ]
  },
  {
   "cell_type": "markdown",
   "metadata": {},
   "source": [
    "- Added namespace and scoping topics due to the use of *Jupyter Notebooks*\n",
    "\n",
    "\n",
    "- Many lecture notes examples updates and the order of contents was updated\n",
    "\n",
    "\n",
    "- **Please review the textbook and lecture notes to understand these changes fully**"
   ]
  },
  {
   "cell_type": "markdown",
   "metadata": {},
   "source": [
    "## Octave vs Python\n",
    "\n",
    "- Only going to highlight a few key important differences.\n",
    "- Please go through the lecture notes and textbook for a complete understanding\n",
    "\n",
    "\n",
    "### Overview\n",
    "\n",
    "- Environments\n",
    "    - *notepad++* with *Octave* terminal vs\n",
    "    - *Jupyter Notebook*\n",
    "\n",
    "\n",
    "- Importing modules"
   ]
  },
  {
   "cell_type": "code",
   "execution_count": null,
   "metadata": {
    "collapsed": false
   },
   "outputs": [],
   "source": [
    "cos(0.5)"
   ]
  },
  {
   "cell_type": "code",
   "execution_count": null,
   "metadata": {
    "collapsed": false
   },
   "outputs": [],
   "source": [
    "import numpy\n",
    "\n",
    "numpy.cos(0.5)"
   ]
  },
  {
   "cell_type": "markdown",
   "metadata": {},
   "source": [
    "- Import modules with new names"
   ]
  },
  {
   "cell_type": "code",
   "execution_count": null,
   "metadata": {
    "collapsed": false
   },
   "outputs": [],
   "source": [
    "import numpy as np\n",
    "\n",
    "np.cos(0.5)"
   ]
  },
  {
   "cell_type": "markdown",
   "metadata": {},
   "source": [
    "- Importing functions from modules"
   ]
  },
  {
   "cell_type": "code",
   "execution_count": null,
   "metadata": {
    "collapsed": false
   },
   "outputs": [],
   "source": [
    "from numpy import cos, sin, tan\n",
    "\n",
    "cos(0.5)"
   ]
  },
  {
   "cell_type": "markdown",
   "metadata": {},
   "source": [
    "- The `help` function"
   ]
  },
  {
   "cell_type": "code",
   "execution_count": null,
   "metadata": {
    "collapsed": false
   },
   "outputs": [],
   "source": [
    "import numpy as np\n",
    "\n",
    "np?"
   ]
  },
  {
   "cell_type": "code",
   "execution_count": null,
   "metadata": {
    "collapsed": false,
    "scrolled": false
   },
   "outputs": [],
   "source": [
    "help(np)"
   ]
  },
  {
   "cell_type": "code",
   "execution_count": null,
   "metadata": {
    "collapsed": false,
    "scrolled": false
   },
   "outputs": [],
   "source": [
    "np.info(np.cos)"
   ]
  },
  {
   "cell_type": "code",
   "execution_count": null,
   "metadata": {
    "collapsed": false
   },
   "outputs": [],
   "source": [
    "np.lookfor('cos')"
   ]
  },
  {
   "cell_type": "markdown",
   "metadata": {},
   "source": [
    "### Names and objects vs variables and values\n",
    "\n",
    "- `name = object` $\\to$ assign name to an object\n",
    "\n",
    "\n",
    "- Memory model example:"
   ]
  },
  {
   "cell_type": "code",
   "execution_count": null,
   "metadata": {
    "collapsed": false
   },
   "outputs": [],
   "source": [
    "a = 10\n",
    "b = a"
   ]
  },
  {
   "cell_type": "markdown",
   "metadata": {},
   "source": [
    "- Octave $\\to$ all variables are unique, values are copied\n",
    "\n",
    "\n",
    "- Python $\\to$ names are bound to objects, objects are not copied"
   ]
  },
  {
   "cell_type": "markdown",
   "metadata": {},
   "source": [
    "### Lists vs vectors"
   ]
  },
  {
   "cell_type": "code",
   "execution_count": null,
   "metadata": {
    "collapsed": false
   },
   "outputs": [],
   "source": [
    "xcoords = [2.3, 4.5, 6.8, 19.8]\n",
    "\n",
    "xcoords * 3.5  # Error\n",
    "xcoords + 5  # Error\n",
    "\n",
    "xcoords * 3\n",
    "xcoords + [23.2, 45.8]"
   ]
  },
  {
   "cell_type": "markdown",
   "metadata": {},
   "source": [
    "- $+$ operator $\\to$ `list + list` $\\to$ join two list together\n",
    "\n",
    "- $*$ operator $\\to$ `list * int` $\\to$ repeat entries in the list int times"
   ]
  },
  {
   "cell_type": "markdown",
   "metadata": {},
   "source": [
    "#### Numpy Arrays\n",
    "\n",
    "- Similar to *Octave* vectors"
   ]
  },
  {
   "cell_type": "code",
   "execution_count": null,
   "metadata": {
    "collapsed": false
   },
   "outputs": [],
   "source": [
    "import numpy as np\n",
    "\n",
    "xcoords = np.array([2.3, 4.5, 6.8, 19.8])\n",
    "\n",
    "xcoords * 3.5\n",
    "xcoords + 5"
   ]
  },
  {
   "cell_type": "markdown",
   "metadata": {},
   "source": [
    "### Names and objects again\n",
    "\n",
    "- *Python* does not copy anything unless explicitly told to\n",
    "- Show memory model"
   ]
  },
  {
   "cell_type": "code",
   "execution_count": null,
   "metadata": {
    "collapsed": false
   },
   "outputs": [],
   "source": [
    "foo = [4, 6, 2]\n",
    "bar = foo\n",
    "foo[1] = 100\n",
    "\n",
    "print(foo)\n",
    "print(bar)"
   ]
  },
  {
   "cell_type": "code",
   "execution_count": null,
   "metadata": {
    "collapsed": false
   },
   "outputs": [],
   "source": [
    "def foo(eggs):\n",
    "    eggs[0] = 100\n",
    "\n",
    "\n",
    "bar = [1, 20, 3]\n",
    "foo(bar)\n",
    "\n",
    "print(bar)"
   ]
  },
  {
   "cell_type": "code",
   "execution_count": null,
   "metadata": {
    "collapsed": false
   },
   "outputs": [],
   "source": [
    "def foo(eggs):\n",
    "    eggs = list(eggs)  # Create a copy\n",
    "    eggs[0] = 100\n",
    "    return eggs\n",
    "\n",
    "\n",
    "bar = [1, 20, 3]\n",
    "spam = foo(bar)\n",
    "\n",
    "print(bar)\n",
    "print(spam)"
   ]
  },
  {
   "cell_type": "markdown",
   "metadata": {},
   "source": [
    "### For loop\n",
    "\n",
    "- For loop used to step through a sequence (list, array, etc.)\n",
    "- *Python* uses indentation to indicate what is part of the for loop block\n",
    "- No `end` statements\n",
    "- Show memory model"
   ]
  },
  {
   "cell_type": "code",
   "execution_count": null,
   "metadata": {
    "collapsed": false
   },
   "outputs": [],
   "source": [
    "values = [10, 5, 2, 8]\n",
    "\n",
    "for x in values:\n",
    "    print(x)"
   ]
  },
  {
   "cell_type": "markdown",
   "metadata": {},
   "source": [
    "### Indentation\n",
    "\n",
    "- `if` statement, `while` loop and functions also use indentation to indicate which code belong to the block"
   ]
  },
  {
   "cell_type": "code",
   "execution_count": null,
   "metadata": {
    "collapsed": false
   },
   "outputs": [],
   "source": [
    "def print_status(grade):\n",
    "    if grade < 50:\n",
    "        print('Fail')\n",
    "    elif grade < 75:\n",
    "        print('Pass')\n",
    "    else:\n",
    "        print('Distinction')\n",
    "\n",
    "\n",
    "for g in [40, 50, 60, 70, 80, 90]:\n",
    "    print_status(grade=g)"
   ]
  },
  {
   "cell_type": "code",
   "execution_count": null,
   "metadata": {
    "collapsed": false
   },
   "outputs": [],
   "source": []
  }
 ],
 "metadata": {
  "anaconda-cloud": {},
  "kernelspec": {
   "display_name": "Python [Root]",
   "language": "python",
   "name": "Python [Root]"
  },
  "language_info": {
   "codemirror_mode": {
    "name": "ipython",
    "version": 3
   },
   "file_extension": ".py",
   "mimetype": "text/x-python",
   "name": "python",
   "nbconvert_exporter": "python",
   "pygments_lexer": "ipython3",
   "version": "3.5.2"
  }
 },
 "nbformat": 4,
 "nbformat_minor": 0
}
