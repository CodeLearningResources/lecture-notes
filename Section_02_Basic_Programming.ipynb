{
 "cells": [
  {
   "cell_type": "markdown",
   "metadata": {
    "nbpresent": {
     "id": "78081bd1-5e9d-456f-ae46-8828b8bd458b"
    },
    "slideshow": {
     "slide_type": "slide"
    }
   },
   "source": [
    "# Basic Programming\n",
    "\n",
    "- [Overview](#Overview)\n",
    "- [Simple Calculations](#Simple-Calculations)\n",
    "- [Importing Modules](#Importing-Modules)\n",
    "- [Documentation](#Documentation)\n",
    "- [Name Assignment](#Name-Assignment)\n",
    "- [Python Namespace](#Python-Namespace)\n",
    "- [Displaying Results](#Displaying-Results)\n",
    "- [Strings](#Strings)\n",
    "- [Recap](#Recap)\n"
   ]
  },
  {
   "cell_type": "markdown",
   "metadata": {
    "nbpresent": {
     "id": "d9537dc1-dd84-4929-91b1-4d0c6bb783ac"
    },
    "slideshow": {
     "slide_type": "slide"
    }
   },
   "source": [
    "## Overview\n",
    "\n",
    "- Running / launching *Anaconda Navigator*\n",
    "\n",
    "\n",
    "- Overview on what you see on *Anaconda Navigator*\n",
    "    - Launching *Jupyter* and/or *Spyder*\n",
    "    - The *Learning* tab and documentation\n",
    "\n",
    "\n",
    "- Overview on what you see in the *Jupyter Home* window\n",
    "    - *Files* and directories (**Home directory**)\n",
    "    - **Need to place course *Notebooks* in your Home directory**\n",
    "    - Creating a new *Notebook*"
   ]
  },
  {
   "cell_type": "markdown",
   "metadata": {
    "nbpresent": {
     "id": "5e7d1da5-9787-46ec-b621-cbe7219e18af"
    },
    "slideshow": {
     "slide_type": "slide"
    }
   },
   "source": [
    "- Overview on what you see in a *Jupyter Notebook*\n",
    "    - `Cell`s $\\to$ `Code Cell`s vs `Markdown Cell`s\n",
    "    - Inserting, copying, and deleting (cut) `Cell`s\n",
    "    - Executing a `Code Cell`\n",
    "    - *Help* $\\to$ *User Interface Tour*\n",
    "    - *Help* $\\to$ Documentation\n",
    "    - Saving *Notebook*s\n",
    "\n",
    "\n",
    "- Running *Jupyter* from a specific folder:\n",
    "    - Open Windows Explorer $\\to$ Navigate to folder with *Jupyter Notebooks*\n",
    "    - Type `jupyter notebook` into *Address Bar* and hit `Enter`\n",
    "    - Watch [this](https://youtu.be/JId0f7URtOQ) video"
   ]
  },
  {
   "cell_type": "markdown",
   "metadata": {
    "nbpresent": {
     "id": "9b8961e6-5b1c-49ae-8b5f-d766f2f0b7b8"
    },
    "slideshow": {
     "slide_type": "slide"
    }
   },
   "source": [
    "## Simple Calculations\n",
    "\n",
    "- Simple mathematics and operators $\\to$ `+ - * / ** ()`"
   ]
  },
  {
   "cell_type": "code",
   "execution_count": null,
   "metadata": {
    "collapsed": false,
    "nbpresent": {
     "id": "e614211c-7346-40c7-97f7-b03649baf41b"
    },
    "slideshow": {
     "slide_type": "subslide"
    }
   },
   "outputs": [],
   "source": [
    "10**2 * 1.8 / (5 + 0.2)"
   ]
  },
  {
   "cell_type": "markdown",
   "metadata": {
    "nbpresent": {
     "id": "b3f0f39c-723a-485e-b942-d59daa2dadd6"
    },
    "slideshow": {
     "slide_type": "subslide"
    }
   },
   "source": [
    "- Python mathematics priority and grouping\n",
    "    - Grouping first $\\to$ `()`\n",
    "    - Power next $\\to$ `**`\n",
    "    - Multiplication and division next $\\to$ `* /`\n",
    "    - Addition and subtraction next $\\to$ `+ -`"
   ]
  },
  {
   "cell_type": "markdown",
   "metadata": {
    "nbpresent": {
     "id": "3b39074d-eeb8-4309-879d-cbf7dbc5b9ad"
    },
    "slideshow": {
     "slide_type": "slide"
    }
   },
   "source": [
    "### Example - Constant acceleration motion\n",
    "\n",
    "- How long does an object fall from a 30m height?\n",
    "    - $s_0 = 30 \\: m$ (initial height)\n",
    "    - $v_0 = 0 \\: m/s$ (initial velocity)\n",
    "    - $a = -9.81 \\: m/s^2$ (gravitational acceleration)\n",
    "    - $t = \\mathtt{Unknown} \\: s$ (time)\n",
    "    - Solve for $t$ and check the answer\n",
    "\n",
    "$$ \n",
    "\\begin{align}\n",
    "    a(t) &= \\text{const} \\\\\n",
    "    v(t) &= \\int a dt  =  v_0 + at \\\\\n",
    "    s(t) &= \\int v(t) dt = s_0 + v_0t + \\frac{1}{2} at^2\n",
    "\\end{align}\n",
    "$$"
   ]
  },
  {
   "cell_type": "markdown",
   "metadata": {
    "nbpresent": {
     "id": "9bd59c00-fadb-4b00-97ed-b1859b3de051"
    },
    "slideshow": {
     "slide_type": "slide"
    }
   },
   "source": [
    "- Solution (Mathematical):\n",
    "    $$\n",
    "    \\begin{align}\n",
    "        s(t) &= 30 + 0 \\times t + 0.5 \\times -9.81 \\times t^2 = 0 \\\\\n",
    "             &= 0.5 \\times -9.81 \\times t^2 + 0 \\times t + 30 = 0\\\\\n",
    "             &= a t^2 +bt + c = 0\n",
    "    \\end{align}\n",
    "    $$\n",
    "\n",
    "    $$ t = \\frac{-b \\pm \\sqrt{b^2 - 4ac}}{2a} $$\n",
    "    \n",
    "    $$\n",
    "    \\begin{align}\n",
    "        a &= 0.5 \\times -9.81 \\\\\n",
    "        b &= 0 \\\\\n",
    "        c &= 30\n",
    "    \\end{align}\n",
    "    $$"
   ]
  },
  {
   "cell_type": "code",
   "execution_count": null,
   "metadata": {
    "collapsed": false,
    "nbpresent": {
     "id": "7b10253d-3905-45b7-95b6-9ce5ff5b6965"
    },
    "slideshow": {
     "slide_type": "subslide"
    }
   },
   "outputs": [],
   "source": [
    "- (-4 * 0.5 * -9.81 * 30)**0.5 / (2 * 0.5 * -9.81)"
   ]
  },
  {
   "cell_type": "code",
   "execution_count": null,
   "metadata": {
    "collapsed": false,
    "nbpresent": {
     "id": "85845439-241d-4eae-b5be-1e6d7df3d37a"
    },
    "slideshow": {
     "slide_type": "subslide"
    }
   },
   "outputs": [],
   "source": [
    "+ (-4 * 0.5 * -9.81 * 30)**0.5 / (2 * 0.5 * -9.81)"
   ]
  },
  {
   "cell_type": "markdown",
   "metadata": {
    "nbpresent": {
     "id": "67f34888-4a64-49eb-a6fc-7f52d50ef9e0"
    },
    "slideshow": {
     "slide_type": "slide"
    }
   },
   "source": [
    "## Importing Modules\n",
    "\n",
    "- What about additional functionality?\n",
    "\n",
    "\n",
    "- More complex calculations?\n",
    "\n",
    "\n",
    "- Import modules and functions\n",
    "    - What is a module? $\\to$ visualize as a filling cabinet\n",
    "    - Filing cabinet (module) stores or contains functions\n",
    "    - Why are modules needed? $\\to$ used to organise and store functions under a certain category $\\to$ easier to find and use the correct function for a given task.\n",
    "    - Each filing cabinet (module) contains functions for a specific category $\\to$ `numpy` module has numerical functions for scalar values and arrays\n",
    "    - The same function name can be used in diffferent categories e.g. symbolic sin() function in sympy versus numeric sin() function in numpy.\n",
    "\n",
    "\n",
    "- Importing the `numpy` module:"
   ]
  },
  {
   "cell_type": "code",
   "execution_count": null,
   "metadata": {
    "collapsed": false,
    "nbpresent": {
     "id": "426e2e20-7ad3-46a8-bd10-baaaf7985282"
    },
    "slideshow": {
     "slide_type": "subslide"
    }
   },
   "outputs": [],
   "source": [
    "import numpy"
   ]
  },
  {
   "cell_type": "code",
   "execution_count": null,
   "metadata": {
    "collapsed": false,
    "nbpresent": {
     "id": "f8589e10-486b-4971-9706-035b40ca18d4"
    },
    "slideshow": {
     "slide_type": "subslide"
    }
   },
   "outputs": [],
   "source": [
    "import numpy as np"
   ]
  },
  {
   "cell_type": "markdown",
   "metadata": {
    "nbpresent": {
     "id": "07b007f6-c90a-4128-96fc-3da79ee294af"
    },
    "slideshow": {
     "slide_type": "subslide"
    }
   },
   "source": [
    "-   Importing functions from the numpy module"
   ]
  },
  {
   "cell_type": "code",
   "execution_count": null,
   "metadata": {
    "collapsed": false,
    "nbpresent": {
     "id": "59b4021d-1be7-45c8-b687-1ea47eea2083"
    },
    "slideshow": {
     "slide_type": "subslide"
    }
   },
   "outputs": [],
   "source": [
    "from numpy import sin, cos"
   ]
  },
  {
   "cell_type": "markdown",
   "metadata": {},
   "source": [
    "- When to use which import style?\n",
    "    - import the module when using many different functions from that module\n",
    "    - import functions from the module when using specific functions many times."
   ]
  },
  {
   "cell_type": "markdown",
   "metadata": {
    "nbpresent": {
     "id": "b0e68ba6-e78d-474a-b2aa-277184fac34d"
    },
    "slideshow": {
     "slide_type": "slide"
    }
   },
   "source": [
    "### Example - Double angle formula\n",
    "- Double angle formulas ($\\theta = 10$ degrees)\n",
    "- Degrees to radians $\\frac{180}{\\pi}$. Why?\n",
    "    $$\n",
    "    \\begin{align}\n",
    "        \\sin(2 \\theta) &= 2 \\sin(\\theta) \\cos(\\theta) \\\\\n",
    "        \\cos(2 \\theta) &= \\cos^2(\\theta) - \\sin^2(\\theta) \\\\\n",
    "        \\tan(2 \\theta) &= \\frac{2 \\tan(\\theta)}{1 - \\tan^2(\\theta)}\n",
    "    \\end{align}\n",
    "    $$\n",
    "- Note: Grouping () can be used to split the calculation over multiple lines for easier reading."
   ]
  },
  {
   "cell_type": "code",
   "execution_count": null,
   "metadata": {
    "collapsed": false,
    "nbpresent": {
     "id": "6964e857-fe36-46a2-874e-c753f9c86426"
    },
    "slideshow": {
     "slide_type": "subslide"
    }
   },
   "outputs": [],
   "source": [
    "import numpy as np\n",
    "\n",
    "print(np.sin(2 * np.radians(10)))\n",
    "print(2 * np.sin(np.radians(10)) * np.cos(np.radians(10)))"
   ]
  },
  {
   "cell_type": "code",
   "execution_count": null,
   "metadata": {
    "collapsed": false,
    "nbpresent": {
     "id": "3487a020-2c1f-461d-b0e3-e8175983cbb6"
    },
    "slideshow": {
     "slide_type": "subslide"
    }
   },
   "outputs": [],
   "source": [
    "from numpy import cos, sin, tan, radians\n",
    "\n",
    "print(cos(2 * radians(10)))\n",
    "print(cos(radians(10))**2 - sin(radians(10))**2)\n",
    "\n",
    "print()\n",
    "print(tan(2 * radians(10)))\n",
    "print(\n",
    "    2 * tan(radians(10)) / \n",
    "    (1 - tan(radians(10))**2)\n",
    ")"
   ]
  },
  {
   "cell_type": "markdown",
   "metadata": {
    "nbpresent": {
     "id": "000286d2-54d8-4b8d-affd-844f1a129b57"
    },
    "slideshow": {
     "slide_type": "slide"
    }
   },
   "source": [
    "## Documentation\n",
    "\n",
    "- How do I find all the functions available in a module?\n",
    "\n",
    "- How do I find out how to use a function and what it does?\n",
    "\n",
    "- Using the `help()` function in *Python*\n",
    "\n",
    "- Using the `numpy.info()` function\n",
    "\n",
    "- Using the `numpy.lookfor('keyword')` function"
   ]
  },
  {
   "cell_type": "code",
   "execution_count": null,
   "metadata": {
    "collapsed": false,
    "nbpresent": {
     "id": "7600153a-4890-4d26-9667-444b4f79abf7"
    },
    "scrolled": false,
    "slideshow": {
     "slide_type": "slide"
    }
   },
   "outputs": [],
   "source": [
    "import numpy\n",
    "\n",
    "help(numpy)"
   ]
  },
  {
   "cell_type": "markdown",
   "metadata": {
    "slideshow": {
     "slide_type": "slide"
    }
   },
   "source": [
    "From `help(numpy)`:\n",
    "> \"For some objects, `np.info(obj)` may provide additional help.\n",
    "> This is particularly true if you see the line \"Help on ufunc object:\" at the top of the `help()` page.\n",
    "> Ufuncs are implemented in C, not Python, for speed.\n",
    "> The native Python `help()` does not know how to view their help, but our `np.info()` function does.\""
   ]
  },
  {
   "cell_type": "code",
   "execution_count": null,
   "metadata": {
    "collapsed": false,
    "nbpresent": {
     "id": "3a861ee0-1bdc-43e3-88ed-86eabb65a089"
    },
    "scrolled": false,
    "slideshow": {
     "slide_type": "slide"
    }
   },
   "outputs": [],
   "source": [
    "import numpy as np\n",
    "\n",
    "np.info(np.sin)"
   ]
  },
  {
   "cell_type": "markdown",
   "metadata": {
    "slideshow": {
     "slide_type": "slide"
    }
   },
   "source": [
    "From `help(numpy)`:\n",
    "> To search for documents containing a keyword, do:\n",
    ">> `np.lookfor('keyword')`"
   ]
  },
  {
   "cell_type": "code",
   "execution_count": null,
   "metadata": {
    "collapsed": false,
    "scrolled": false,
    "slideshow": {
     "slide_type": "slide"
    }
   },
   "outputs": [],
   "source": [
    "import numpy as np\n",
    "\n",
    "np.lookfor('cos')"
   ]
  },
  {
   "cell_type": "markdown",
   "metadata": {
    "nbpresent": {
     "id": "3a843364-bf0a-4578-97bc-d2a5cf506a05"
    },
    "slideshow": {
     "slide_type": "slide"
    }
   },
   "source": [
    "## Name Assignment\n",
    "\n",
    "### Example - Constant acceleration motion\n",
    "\n",
    "- Example of an object falling:\n",
    "    - $s_0 = 30 \\: m$ (initial height)\n",
    "    - $v_0 = 0 \\: m/s$ (initial velocity)\n",
    "    - $a = -9.81 \\: m/s^2$ (gravitational acceleration)\n",
    "    - $t = 1.5 \\: s$ (time)\n",
    "    - Calculate $v(t)$ and $s(t)$ without name assignment\n",
    "\n",
    "$$ \n",
    "\\begin{align}\n",
    "    a(t) &= \\text{const} \\\\\n",
    "    v(t) &= \\int a dt  =  v_0 + at \\\\\n",
    "    s(t) &= \\int v(t) dt = s_0 + v_0t + \\frac{1}{2} at^2\n",
    "\\end{align}\n",
    "$$"
   ]
  },
  {
   "cell_type": "code",
   "execution_count": null,
   "metadata": {
    "collapsed": false,
    "nbpresent": {
     "id": "177e233f-39d3-408a-a693-f6416a9ef136"
    },
    "slideshow": {
     "slide_type": "subslide"
    }
   },
   "outputs": [],
   "source": [
    "print(0 + -9.81 * 1.5)\n",
    "print(30 + 0.5 * -9.81 * 1.5**2)"
   ]
  },
  {
   "cell_type": "markdown",
   "metadata": {
    "nbpresent": {
     "id": "a7a40661-3ea0-48d1-af36-011858335a71"
    },
    "slideshow": {
     "slide_type": "slide"
    }
   },
   "source": [
    "- Using *names* instead:"
   ]
  },
  {
   "cell_type": "code",
   "execution_count": null,
   "metadata": {
    "collapsed": false,
    "nbpresent": {
     "id": "df36a05c-f8ae-4d1f-9432-aae2fdefc49f"
    },
    "slideshow": {
     "slide_type": "subslide"
    }
   },
   "outputs": [],
   "source": [
    "s0 = 30\n",
    "v0 = 0\n",
    "g = -9.81\n",
    "t = 1.5\n",
    "\n",
    "v = v0 + g * t\n",
    "s = s0 + v0 * t + 0.5 * g * t**2\n",
    "\n",
    "print(v)\n",
    "print(s)    "
   ]
  },
  {
   "cell_type": "markdown",
   "metadata": {
    "nbpresent": {
     "id": "2a013477-19b5-4527-aa0b-f15b2711000b"
    },
    "slideshow": {
     "slide_type": "slide"
    }
   },
   "source": [
    "- Why use name assignment\n",
    "    - Calculation results are lost after the computation\n",
    "    - Reference an answer of a calculation for later use\n",
    "    - More descriptive way to reference a value or answer of a calculation\n",
    "    - Easier to break up a complex calculation into smaller pieces\n",
    "    - Easier to read and understand a program / piece of code\n",
    "    - Less chance for mistakes - requires fewer changes\n",
    "    - Guides you to think more generally about the problem"
   ]
  },
  {
   "cell_type": "markdown",
   "metadata": {
    "nbpresent": {
     "id": "c1596033-0274-41d2-9ba1-1f76ed9b6408"
    },
    "slideshow": {
     "slide_type": "slide"
    }
   },
   "source": [
    "<img src=\"./figures/name_object_assignment.svg\" alt=\"Object Assignment\" style=\"height: 200px;\"/>\n",
    "\n",
    "- `LHS`: chosen name (e.g. `x`)\n",
    "\n",
    "\n",
    "- `RHS`: known objects / values (e.g. `7 + 3.3`)\n",
    "\n",
    "\n",
    "- `RHS` of $=$ operator is calculated first according to the mathematical priority discussed previously $\\to$ then LHS name is assigned to the answer\n",
    "\n",
    "\n",
    "- **`x = 10.3` not the same as `10.3 = x` !!!**\n",
    "\n",
    "\n",
    "- `10.3 = x` $\\to$ gives an error"
   ]
  },
  {
   "cell_type": "code",
   "execution_count": null,
   "metadata": {
    "collapsed": false,
    "nbpresent": {
     "id": "84646fd2-7123-4bd1-acb9-3401859d01d1"
    },
    "slideshow": {
     "slide_type": "subslide"
    }
   },
   "outputs": [],
   "source": [
    "x = 10.3  # Yes\n",
    "\n",
    "10.3 = x  # No !!"
   ]
  },
  {
   "cell_type": "markdown",
   "metadata": {},
   "source": [
    "### Acceptable names\n",
    "- Names are case sensitive $\\to$ `value1`, `VALUE1` and `VaLuE1` are distinct $\\to$ can be bound to the same or to different objects\n",
    "\n",
    "\n",
    "- Names should be lowercase with words separated by underscores (E.g. `my_value` and not `My_Value`) $\\to$ **can't be seperated with spaces**\n",
    "\n",
    "\n",
    "- Names should not be any of the *Python* keywords"
   ]
  },
  {
   "cell_type": "code",
   "execution_count": null,
   "metadata": {
    "collapsed": false
   },
   "outputs": [],
   "source": [
    "help('keywords')"
   ]
  },
  {
   "cell_type": "markdown",
   "metadata": {
    "slideshow": {
     "slide_type": "slide"
    }
   },
   "source": [
    "### Memory model"
   ]
  },
  {
   "cell_type": "code",
   "execution_count": null,
   "metadata": {
    "collapsed": false,
    "slideshow": {
     "slide_type": "subslide"
    }
   },
   "outputs": [],
   "source": [
    "%%HTML\n",
    "<iframe width=\"100%\" height=\"500\" frameborder=\"0\" src=\"http://pythontutor.com/iframe-embed.html#code=foo%20%3D%201%0Abar%20%3D%201%0Abar%20%3D%202%0Aeggs%20%3D%20foo%20%2B%20bar&codeDivHeight=400&codeDivWidth=350&cumulative=false&curInstr=0&heapPrimitives=true&origin=opt-frontend.js&py=3&rawInputLstJSON=%5B%5D&textReferences=false\">\n",
    "<img src=\"./figures/memory_model1.svg\" alt=\"Memory Model Example 1\" style=\"height: 330px;\"/>\n",
    "</iframe>"
   ]
  },
  {
   "cell_type": "markdown",
   "metadata": {
    "slideshow": {
     "slide_type": "slide"
    }
   },
   "source": [
    "### Memory model"
   ]
  },
  {
   "cell_type": "code",
   "execution_count": null,
   "metadata": {
    "collapsed": false,
    "slideshow": {
     "slide_type": "subslide"
    }
   },
   "outputs": [],
   "source": [
    "%%HTML\n",
    "<iframe width=\"100%\" height=\"500\" frameborder=\"0\" src=\"http://pythontutor.com/iframe-embed.html#code=foo%20%3D%202.2%0Abar%20%3D%20foo%20%2B%203.2%0Afoo%20%3D%204.2%0Abar%20%3D%20foo%20%2B%203.2&codeDivHeight=400&codeDivWidth=350&cumulative=false&curInstr=0&heapPrimitives=true&origin=opt-frontend.js&py=3&rawInputLstJSON=%5B%5D&textReferences=false\">\n",
    "<img src=\"./figures/memory_model2.svg\" alt=\"Memory Model Example 2\" style=\"height: 400px;\"/>\n",
    "</iframe>"
   ]
  },
  {
   "cell_type": "markdown",
   "metadata": {
    "slideshow": {
     "slide_type": "slide"
    }
   },
   "source": [
    "## Python Namespace\n",
    "\n",
    "- Space / place where a name is created / defined\n",
    "- Consider as a blank piece of paper\n",
    "- Each notebook has its own piece of paper (*global namespace*)\n",
    "- Every name defined (when executing a cell) $\\to$ puts the name on the piece of paper\n",
    "- View all names and their objects $\\to$ `%whos`"
   ]
  },
  {
   "cell_type": "code",
   "execution_count": null,
   "metadata": {
    "collapsed": false,
    "scrolled": false,
    "slideshow": {
     "slide_type": "subslide"
    }
   },
   "outputs": [],
   "source": [
    "%whos"
   ]
  },
  {
   "cell_type": "markdown",
   "metadata": {},
   "source": [
    "- Clear the *Python* namespace\n",
    "    - Restart the kernel, or\n",
    "    - Execute `%reset -f` in a code cell"
   ]
  },
  {
   "cell_type": "code",
   "execution_count": null,
   "metadata": {
    "collapsed": false
   },
   "outputs": [],
   "source": [
    "%reset -f\n",
    "%whos"
   ]
  },
  {
   "cell_type": "code",
   "execution_count": null,
   "metadata": {
    "collapsed": false
   },
   "outputs": [],
   "source": [
    "foo = 10"
   ]
  },
  {
   "cell_type": "code",
   "execution_count": null,
   "metadata": {
    "collapsed": false
   },
   "outputs": [],
   "source": [
    "bar = foo + 100"
   ]
  },
  {
   "cell_type": "code",
   "execution_count": null,
   "metadata": {
    "collapsed": false
   },
   "outputs": [],
   "source": [
    "%whos"
   ]
  },
  {
   "cell_type": "markdown",
   "metadata": {
    "slideshow": {
     "slide_type": "slide"
    }
   },
   "source": [
    "### Example - Execution Order"
   ]
  },
  {
   "cell_type": "code",
   "execution_count": null,
   "metadata": {
    "collapsed": false,
    "slideshow": {
     "slide_type": "subslide"
    }
   },
   "outputs": [],
   "source": [
    "# Code Cell One\n",
    "this = 100"
   ]
  },
  {
   "cell_type": "code",
   "execution_count": null,
   "metadata": {
    "collapsed": false,
    "slideshow": {
     "slide_type": "subslide"
    }
   },
   "outputs": [],
   "source": [
    "# Code Cell Two\n",
    "other = this + that\n",
    "print(other)"
   ]
  },
  {
   "cell_type": "code",
   "execution_count": null,
   "metadata": {
    "collapsed": false,
    "slideshow": {
     "slide_type": "subslide"
    }
   },
   "outputs": [],
   "source": [
    "# Code Cell Three\n",
    "that = 1.5"
   ]
  },
  {
   "cell_type": "markdown",
   "metadata": {
    "slideshow": {
     "slide_type": "subslide"
    }
   },
   "source": [
    "- Execution order: `One`, `Two`, then `Three` $\\to$ Error $\\to$ Name `that` not defined\n",
    "- Execution order: `One`, `Three`, then `Two` $\\to$ Works !!"
   ]
  },
  {
   "cell_type": "markdown",
   "metadata": {
    "slideshow": {
     "slide_type": "subslide"
    }
   },
   "source": [
    "- **Very dangerous and may lead to unexpected behavior if not careful.**\n",
    "- **Highly recommended you create independant *Code Cell*s**\n",
    "- **\"Out of order\" execution excuses for tests and exams will not be accepted !!**\n",
    "- **Kernel -> Restart & Run All: Executes the cells from top to bottom. For tests and exams, your code must work when Kernel -> Restart & Run All is executed. **"
   ]
  },
  {
   "cell_type": "markdown",
   "metadata": {
    "nbpresent": {
     "id": "64eececf-cdf3-414e-bded-a1a7a4665f8e"
    },
    "slideshow": {
     "slide_type": "slide"
    }
   },
   "source": [
    "## Displaying Results\n",
    "\n",
    "- How to display the results of our calculation to the screen without interacting with the Python interpreter?\n",
    "\n",
    "\n",
    "- Using the `print()` function $\\to$ print information from Python:"
   ]
  },
  {
   "cell_type": "code",
   "execution_count": null,
   "metadata": {
    "collapsed": false,
    "nbpresent": {
     "id": "1e6a1a3f-7433-42e7-8aa2-fb0fb8b58632"
    },
    "slideshow": {
     "slide_type": "subslide"
    }
   },
   "outputs": [],
   "source": [
    "s0 = 30 \n",
    "v0 = 0 \n",
    "g = -9.81\n",
    "t = 1.5\n",
    "\n",
    "v = v0 + g * t\n",
    "s = s0 + v0 * t + 0.5 * g * t**2\n",
    "\n",
    "print(v)\n",
    "print(s)"
   ]
  },
  {
   "cell_type": "markdown",
   "metadata": {
    "nbpresent": {
     "id": "882e62b4-e1eb-4df5-89e5-78280f7f4f33"
    },
    "slideshow": {
     "slide_type": "subslide"
    }
   },
   "source": [
    "- What about displaying more meaningful feedback?\n",
    "\n",
    "\n",
    "- Maybe something like:\n",
    "    - `\"After 1 seconds the object’s position is 25.095m above the ground with a velocity of 0.981m/s\"`\n",
    "\n",
    "\n",
    "- For this we need to use strings and string operations."
   ]
  },
  {
   "cell_type": "markdown",
   "metadata": {
    "nbpresent": {
     "id": "d2e508a0-3c25-48bd-86d4-3bd8ffe85e54"
    },
    "slideshow": {
     "slide_type": "slide"
    }
   },
   "source": [
    "## Strings\n",
    "\n",
    "- String objects $\\to$ Created using two quotation marks\n",
    "    - `msg = \"hello\"`\n",
    "\n",
    "\n",
    "- Used mainly for displaying feedback from Python and for data handling (discussed later in the course)\n",
    "\n",
    "\n",
    "- String format:\n",
    "    - Create a string with \"place holders\" $\\to$ `{}`\n",
    "    - Use the `.format()` function to substitute the \"place holders\" with values\n",
    "\n",
    "\n",
    "- Illustrative Example:"
   ]
  },
  {
   "cell_type": "code",
   "execution_count": null,
   "metadata": {
    "collapsed": false,
    "nbpresent": {
     "id": "948733e1-61cf-4ca3-a9fd-8bc0d5668072"
    },
    "slideshow": {
     "slide_type": "subslide"
    }
   },
   "outputs": [],
   "source": [
    "msg = \"x = {}, y = {}\"\n",
    "print(msg.format(1, 2))\n",
    "print(msg.format(12.22, 2.254))"
   ]
  },
  {
   "cell_type": "markdown",
   "metadata": {
    "nbpresent": {
     "id": "75309ab6-4cfd-43ed-8cc0-44c1ae9ca565"
    },
    "slideshow": {
     "slide_type": "slide"
    }
   },
   "source": [
    "### Example - Constant acceleration motion\n",
    "\n",
    "- Example of an object falling:\n",
    "    - $s_0 = 30 \\: m$ (initial height)\n",
    "    - $v_0 = 0 \\: m/s$ (initial velocity)\n",
    "    - $a = -9.81 \\: m/s^2$ (gravitational acceleration)\n",
    "    - $t = 1.5 \\: s$ (time)\n",
    "    - Calculate $v(t)$ and $s(t)$ without name assignment\n",
    "    - Give meaningful feedback to the user\n",
    "\n",
    "$$ \n",
    "\\begin{align}\n",
    "    a(t) &= \\text{const} \\\\\n",
    "    v(t) &= \\int a dt  =  v_0 + at \\\\\n",
    "    s(t) &= \\int v(t) dt = s_0 + v_0t + \\frac{1}{2} at^2\n",
    "\\end{align}\n",
    "$$\n",
    "\n",
    "### Outcomes:\n",
    "\n",
    "- String `.format()` function and order on inputs\n",
    "- Splitting a long string over multiple lines"
   ]
  },
  {
   "cell_type": "code",
   "execution_count": null,
   "metadata": {
    "collapsed": false,
    "nbpresent": {
     "id": "f2c2ab78-95c8-4e3a-b2cc-190069ade26b"
    },
    "slideshow": {
     "slide_type": "subslide"
    }
   },
   "outputs": [],
   "source": [
    "s0 = 30 \n",
    "v0 = 0 \n",
    "g = -9.81\n",
    "t = 1.5\n",
    "\n",
    "v = v0 + g * t\n",
    "s = s0 + v0 * t + 0.5 * g * t**2\n",
    "\n",
    "msg = (\n",
    "    \"After {} seconds, the object’s position is {} m \"\n",
    "    \"above the ground with a velocity of {} m/s\"\n",
    ")\n",
    "print(msg.format(t, s, v))"
   ]
  },
  {
   "cell_type": "markdown",
   "metadata": {
    "nbpresent": {
     "id": "94c497fb-8e08-459e-9b1c-1baa8a1755d6"
    },
    "slideshow": {
     "slide_type": "slide"
    }
   },
   "source": [
    "## Recap\n",
    "\n",
    "- Mathematics\n",
    "    - Operators: `() + - * / **`\n",
    "    - Priority: `()` then `**` then `* /` then `+ -`"
   ]
  },
  {
   "cell_type": "markdown",
   "metadata": {
    "nbpresent": {
     "id": "c75d004f-22c8-45c1-bb60-3f696fc61255"
    },
    "slideshow": {
     "slide_type": "slide"
    }
   },
   "source": [
    "- Importing modules\n",
    "    - `import numpy`\n",
    "    - `from numpy import cos, sin`\n",
    "    - add additional functions for use in the program\n",
    "    - only import the modules / functions needed\n",
    "    - used `help` function for documentation\n",
    "        - `help(numpy)`\n",
    "        - `help(numpy.sin)`"
   ]
  },
  {
   "cell_type": "markdown",
   "metadata": {
    "nbpresent": {
     "id": "22dcc377-f693-41e6-b5ff-6d29e5ef7690"
    },
    "slideshow": {
     "slide_type": "slide"
    }
   },
   "source": [
    "- `()` brackets\n",
    "    - Used for grouping calculations / operations together\n",
    "    - Can be used to split long lines of code over multiple lines\n",
    "    - Used for calling / using functions and methods $\\to$ `numpy.radians(90)`"
   ]
  },
  {
   "cell_type": "markdown",
   "metadata": {
    "nbpresent": {
     "id": "175838c0-3247-43f1-8774-b2688e9d73b5"
    },
    "slideshow": {
     "slide_type": "slide"
    }
   },
   "source": [
    "- Name assignment\n",
    "    - `name = object`\n",
    "    - Used to reference on object / answer of a calculation"
   ]
  },
  {
   "cell_type": "code",
   "execution_count": null,
   "metadata": {
    "collapsed": false,
    "nbpresent": {
     "id": "9f37b3d5-7147-47d2-94f2-fcdfb7250b2a"
    },
    "slideshow": {
     "slide_type": "subslide"
    }
   },
   "outputs": [],
   "source": [
    "x = (12.3 + 4)**2\n",
    "y = x / 2.0\n",
    "msg = \"x = {}, y = {}\"\n",
    "print(msg.format(x, y))"
   ]
  },
  {
   "cell_type": "markdown",
   "metadata": {
    "nbpresent": {
     "id": "a5ef1d01-14de-4101-bcc4-76dabee6c187"
    },
    "slideshow": {
     "slide_type": "slide"
    }
   },
   "source": [
    "### Recap Quiz\n",
    "\n",
    "- Recap Quiz – Name Assignment:\n",
    "    - You want to add the numbers 1 to 10, term by term using one name to reference the answer.\n",
    "        - How can you do it?\n",
    "    - The names `number1` and `number2` each reference the integer objects 17 and 3 respectively. You want `number1` to reference the integer object 3 and `number2` to reference the integer object 17.\n",
    "        - Discuss two possible approaches to do this."
   ]
  },
  {
   "cell_type": "code",
   "execution_count": null,
   "metadata": {
    "collapsed": false,
    "nbpresent": {
     "id": "ab4c6d54-0c94-4954-9412-63c33bda1938"
    },
    "slideshow": {
     "slide_type": "skip"
    }
   },
   "outputs": [],
   "source": []
  }
 ],
 "metadata": {
  "anaconda-cloud": {},
  "kernelspec": {
   "display_name": "Python [Root]",
   "language": "python",
   "name": "Python [Root]"
  },
  "language_info": {
   "codemirror_mode": {
    "name": "ipython",
    "version": 3
   },
   "file_extension": ".py",
   "mimetype": "text/x-python",
   "name": "python",
   "nbconvert_exporter": "python",
   "pygments_lexer": "ipython3",
   "version": "3.5.2"
  },
  "nbpresent": {
   "slides": {},
   "themes": {
    "default": "5c99f935-a497-4a96-95fc-0c35ccd4a54a",
    "theme": {}
   }
  }
 },
 "nbformat": 4,
 "nbformat_minor": 0
}
