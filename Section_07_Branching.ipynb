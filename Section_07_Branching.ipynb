{
 "cells": [
  {
   "cell_type": "markdown",
   "metadata": {
    "slideshow": {
     "slide_type": "slide"
    }
   },
   "source": [
    "# Branching\n",
    "\n",
    "- [Framework](#Framework)\n",
    "- [Conditions](#Conditions)\n",
    "- [Multiple Conditions](#Multiple-Conditions)\n",
    "- [User Input](#User-Input)\n",
    "- [Multiple Decisions](Multiple-Decisions)\n",
    "- [Recap](#Recap)\n"
   ]
  },
  {
   "cell_type": "markdown",
   "metadata": {
    "slideshow": {
     "slide_type": "slide"
    }
   },
   "source": [
    "## Framework\n",
    "\n",
    "### Example - Sum Random Integers:\n",
    "\n",
    "- Write a program that simulates the throw of a die\n",
    "\n",
    "\n",
    "- Add the die throws together until the sum is greater than 50\n",
    "\n",
    "\n",
    "- **Count how many times the die lands on a certain number and store this information to an array**\n",
    "\n",
    "\n",
    "### Outcomes:\n",
    "\n",
    "- Count how many time the die lands on a certain number:\n",
    "    - array mapping $\\to$ maps nicely to the problem $\\to$ used to count all the numbers\n",
    "    - `if` statement $\\to$ much longer to code $\\to$ would generally only be used to count one or two specific numbers"
   ]
  },
  {
   "cell_type": "code",
   "execution_count": null,
   "metadata": {
    "collapsed": false,
    "slideshow": {
     "slide_type": "subslide"
    }
   },
   "outputs": [],
   "source": [
    "import numpy.random\n",
    "\n",
    "def throw_die(N):\n",
    "    cnt1 = 0\n",
    "    cnt2 = 0\n",
    "    die_sum = 0\n",
    "    while die_sum < N:\n",
    "        die = numpy.random.randint(1, 6)\n",
    "        die_sum = die_sum + die\n",
    "\n",
    "        if die == 1:\n",
    "            cnt1 = cnt1 + 1\n",
    "\n",
    "        if die == 2:\n",
    "            cnt2 = cnt2 + 1\n",
    "\n",
    "    return cnt1, cnt2\n",
    "\n",
    "\n",
    "msg = \"The die landed on {}, {} times.\"\n",
    "val1, val2 = throw_die(N=50)\n",
    "print(msg.format(1, val1))\n",
    "print(msg.format(2, val2))"
   ]
  },
  {
   "cell_type": "markdown",
   "metadata": {
    "slideshow": {
     "slide_type": "slide"
    }
   },
   "source": [
    "<img src=\"./figures/if_statement_framework.svg\" alt=\"If Statement Framework\" style=\"height: 600px;\"/>"
   ]
  },
  {
   "cell_type": "markdown",
   "metadata": {
    "slideshow": {
     "slide_type": "subslide"
    }
   },
   "source": [
    "- **Used to decide which code should be executed $\\to$ branching or flow control**\n",
    "\n",
    "\n",
    "- Executed from top to the bottom of the script\n",
    "\n",
    "\n",
    "- Indentation (white space) of the code tells Python it is part of the if, elif or else statements\n",
    "\n",
    "\n",
    "- Condition has to be **True** to **enter** (execute) the code in the **if or elif statement**\n",
    "\n",
    "\n",
    "- If the condition is **False** then the code in the if or elif statements is skipped (not executed)\n",
    "\n",
    "\n",
    "- The code in the **else statement** is only **executed** when the **if or elif statements are not executed**\n",
    "\n",
    "\n",
    "- Structure of the if, elif and else statements is very problem specific\n",
    "    - Multiple or no elif statements can occur\n",
    "    - One or no else statements can occur"
   ]
  },
  {
   "cell_type": "markdown",
   "metadata": {
    "slideshow": {
     "slide_type": "slide"
    }
   },
   "source": [
    "## Conditions\n",
    "\n",
    "- Conditions, Questions or Comparisons (Same as for the `while` loop):\n",
    "    - $A > B$ $\\to$ while A is greater than B\n",
    "    - $A < B$ $\\to$ while A is less than B\n",
    "    - $A >= B$ $\\to$ while A is greater than or equal to B\n",
    "    - $A <= B$ $\\to$ while A is less than or equal to B\n",
    "    - $A == B$ $\\to$ while A is equal to B\n",
    "    - $A != B$ $\\to$ while A is not equal to B\n",
    "    - **Note:**\n",
    "        - $=$ $\\to$ assignment (A = B)\n",
    "        - $==$ $\\to$ comparison (is A == B)\n",
    "    - Conditions always evaluate to **True** or **False**\n",
    "    - Object type $\\to$ **bool**"
   ]
  },
  {
   "cell_type": "markdown",
   "metadata": {
    "slideshow": {
     "slide_type": "slide"
    }
   },
   "source": [
    "## Multiple Conditions\n",
    "\n",
    "- Same as for the `while` loop\n",
    "\n",
    "\n",
    "- `or` keyword:\n",
    "    - `cond1 or cond2` $\\to$ only **False** when both are False\n",
    "    - `True` or `True` $\\to$ `True`\n",
    "    - `True` or `False` $\\to$ `True`\n",
    "    - `False` or `False` $\\to$ `False`\n",
    "\n",
    "\n",
    "-   `and` keyword:\n",
    "    - `cond1 and cond2` $\\to$ only **true** when both are true\n",
    "    - `True` and `True` $\\to$ `True`\n",
    "    - `True` and `False` $\\to$ `False`\n",
    "    - `False` and `False` $\\to$ `False`"
   ]
  },
  {
   "cell_type": "markdown",
   "metadata": {
    "slideshow": {
     "slide_type": "slide"
    }
   },
   "source": [
    "## User Input\n",
    "\n",
    "### Example - print grade:\n",
    "\n",
    "- Write a program that asks the user to input a students grade.\n",
    "\n",
    "\n",
    "- The program must then print one of the following messages to the screen, based on the students grade:\n",
    "    - 0 - 49 $\\to$ Fail\n",
    "    - 50 - 74 $\\to$ Pass\n",
    "    - 75 - 100 $\\to$ Distinction\n",
    "\n",
    "\n",
    "- Also test the program with unexpected user input values $\\to$ -60, 1003 $\\to$ How would you change the program to account for this?\n",
    "\n",
    "\n",
    "### Outcomes:\n",
    "\n",
    "- `input(msg)` function $\\to$ string inputs (str)\n",
    "\n",
    "\n",
    "- Type case to `int`\n",
    "\n",
    "\n",
    "- Multiple `elif` statements\n",
    "\n",
    "\n",
    "- Order of `elif` statements"
   ]
  },
  {
   "cell_type": "code",
   "execution_count": null,
   "metadata": {
    "collapsed": false,
    "slideshow": {
     "slide_type": "subslide"
    }
   },
   "outputs": [],
   "source": [
    "def print_grade_info(grade):\n",
    "    if grade < 50:\n",
    "        print(\"Fail\")\n",
    "    elif grade < 75:\n",
    "        print(\"Pass\")\n",
    "    else:\n",
    "        print(\"Distinction\")\n",
    "    return\n",
    "\n",
    "\n",
    "user = input(\"Enter students grade: \")\n",
    "val = int(user)\n",
    "print(type(user))\n",
    "print(type(val))\n",
    "print_grade_info(grade=val)"
   ]
  },
  {
   "cell_type": "code",
   "execution_count": null,
   "metadata": {
    "collapsed": false
   },
   "outputs": [],
   "source": [
    "%%HTML\n",
    "<iframe width=\"100%\" height=\"480\" frameborder=\"0\" src=\"http://pythontutor.com/iframe-embed.html#code=def%20print_grade_info(grade%29%3A%0A%20%20%20%20if%20grade%20%3C%2050%3A%0A%20%20%20%20%20%20%20%20print(%22Fail%22%29%0A%20%20%20%20elif%20grade%20%3C%2075%3A%0A%20%20%20%20%20%20%20%20print(%22Pass%22%29%0A%20%20%20%20else%3A%0A%20%20%20%20%20%20%20%20print(%22Distinction%22%29%0A%20%20%20%20return%0A%0A%0Aval%20%3D%20int(input(%22Enter%20students%20grade%3A%20%22%29%29%0Aprint_grade_info(grade%3Dval%29&codeDivHeight=400&codeDivWidth=350&cumulative=false&curInstr=0&heapPrimitives=true&origin=opt-frontend.js&py=3&rawInputLstJSON=%5B%2287%22%5D&textReferences=false\">\n",
    "<p>Requires internet access / Draw on the board</p>\n",
    "</iframe>"
   ]
  },
  {
   "cell_type": "code",
   "execution_count": null,
   "metadata": {
    "collapsed": false,
    "slideshow": {
     "slide_type": "subslide"
    }
   },
   "outputs": [],
   "source": [
    "def print_grade_info(grade):\n",
    "    if grade < 0 or grade > 100:\n",
    "        print(\"Invalid grade\")\n",
    "    elif grade < 50:\n",
    "        print(\"Fail\")\n",
    "    elif grade < 75:\n",
    "        print(\"Pass\")\n",
    "    else:\n",
    "        print(\"Distinction\")\n",
    "\n",
    "\n",
    "val = int(input(\"Enter students grade: \"))\n",
    "print_grade_info(grade=val)"
   ]
  },
  {
   "cell_type": "markdown",
   "metadata": {
    "slideshow": {
     "slide_type": "slide"
    }
   },
   "source": [
    "## Multiple Decisions\n",
    "\n",
    "### Example - print integer information:\n",
    "\n",
    "- Write a program that asks the user to input an integer.\n",
    "\n",
    "\n",
    "- The program must then print to the screen whether or not the integer is even or odd and whether the integer is greater than zero or not\n",
    "\n",
    "\n",
    "### Outcomes:\n",
    "\n",
    "- Remainder function (`%`)\n",
    "\n",
    "\n",
    "- Multiple decisions $\\to$ multiple if-else blocks (statements)\n",
    "\n",
    "\n",
    "- Flow control and structure:\n",
    "    - 4 if blocks (single questions) vs.\n",
    "    - 2 if-else blocks vs.\n",
    "    - 4 if blocks (multiple questions) vs.\n",
    "    - 4 if blocks (single question - nested)\n",
    "    - pythontutor.com"
   ]
  },
  {
   "cell_type": "code",
   "execution_count": null,
   "metadata": {
    "collapsed": false,
    "slideshow": {
     "slide_type": "subslide"
    }
   },
   "outputs": [],
   "source": [
    "def print_int_information(int_val):\n",
    "    if (int_val % 2) == 1:\n",
    "        print(\"Odd Number\")\n",
    "\n",
    "    if (int_val % 2) != 1:\n",
    "        print(\"Even Number\")\n",
    "\n",
    "    if (int_val > 0):\n",
    "        print(\"Greater than 0\")\n",
    "\n",
    "    if (int_val < 0):\n",
    "        print(\"Less than 0\")\n",
    "\n",
    "\n",
    "val = int(input(\"Enter an integer value: \"))\n",
    "print_int_information(int_val=val)"
   ]
  },
  {
   "cell_type": "code",
   "execution_count": null,
   "metadata": {
    "collapsed": false
   },
   "outputs": [],
   "source": [
    "%%HTML\n",
    "<iframe width=\"100%\" height=\"580\" frameborder=\"0\" src=\"http://pythontutor.com/iframe-embed.html#code=def%20print_int_information(int_val%29%3A%0A%20%20%20%20if%20(int_val%20%25%202%29%20%3D%3D%201%3A%0A%20%20%20%20%20%20%20%20print(%22Odd%20Number%22%29%0A%0A%20%20%20%20if%20(int_val%20%25%202%29%20!%3D%201%3A%0A%20%20%20%20%20%20%20%20print(%22Even%20Number%22%29%0A%0A%20%20%20%20if%20(int_val%20%3E%200%29%3A%0A%20%20%20%20%20%20%20%20print(%22Greater%20than%200%22%29%0A%0A%20%20%20%20if%20(int_val%20%3C%200%29%3A%0A%20%20%20%20%20%20%20%20print(%22Less%20than%200%22%29%0A%0A%0Aval%20%3D%20int(input(%22Enter%20an%20integer%20value%3A%20%22%29%29%0Aprint_int_information(int_val%3Dval%29&codeDivHeight=400&codeDivWidth=350&cumulative=false&curInstr=0&heapPrimitives=true&origin=opt-frontend.js&py=3&rawInputLstJSON=%5B%22-13%22%5D&textReferences=false\">\n",
    "<p>Requires internet access / Draw on the board</p>\n",
    "</iframe>"
   ]
  },
  {
   "cell_type": "code",
   "execution_count": null,
   "metadata": {
    "collapsed": false,
    "slideshow": {
     "slide_type": "subslide"
    }
   },
   "outputs": [],
   "source": [
    "def print_int_information(int_val):\n",
    "    if (int_val % 2) == 1:\n",
    "        print(\"Odd Number\")\n",
    "    else:\n",
    "        print(\"Even Number\")\n",
    "\n",
    "    if (int_val > 0):\n",
    "        print(\"Greater than 0\")\n",
    "    else:\n",
    "        print(\"Less than 0\")\n",
    "\n",
    "\n",
    "val = int(input(\"Enter an integer value: \"))\n",
    "print_int_information(int_val=val)"
   ]
  },
  {
   "cell_type": "code",
   "execution_count": null,
   "metadata": {
    "collapsed": false
   },
   "outputs": [],
   "source": [
    "%%HTML\n",
    "<iframe width=\"100%\" height=\"550\" frameborder=\"0\" src=\"http://pythontutor.com/iframe-embed.html#code=def%20print_int_information(int_val%29%3A%0A%20%20%20%20if%20(int_val%20%25%202%29%20%3D%3D%201%3A%0A%20%20%20%20%20%20%20%20print(%22Odd%20Number%22%29%0A%20%20%20%20else%3A%0A%20%20%20%20%20%20%20%20print(%22Even%20Number%22%29%0A%0A%20%20%20%20if%20(int_val%20%3E%200%29%3A%0A%20%20%20%20%20%20%20%20print(%22Greater%20than%200%22%29%0A%20%20%20%20else%3A%0A%20%20%20%20%20%20%20%20print(%22Less%20than%200%22%29%0A%0A%0Aval%20%3D%20int(input(%22Enter%20an%20integer%20value%3A%20%22%29%29%0Aprint_int_information(int_val%3Dval%29&codeDivHeight=400&codeDivWidth=350&cumulative=false&curInstr=0&heapPrimitives=true&origin=opt-frontend.js&py=3&rawInputLstJSON=%5B%22-13%22%5D&textReferences=false\">\n",
    "<p>Requires internet access / Draw on the board</p>\n",
    "</iframe>"
   ]
  },
  {
   "cell_type": "code",
   "execution_count": null,
   "metadata": {
    "collapsed": false,
    "slideshow": {
     "slide_type": "subslide"
    }
   },
   "outputs": [],
   "source": [
    "def print_int_information(int_val):\n",
    "    if (int_val % 2) == 1 and (int_val > 0):\n",
    "        print(\"Odd Number\")\n",
    "        print(\"Greater than 0\")\n",
    "\n",
    "    if (int_val % 2) == 1 and (int_val < 0):\n",
    "        print(\"Odd Number\")\n",
    "        print(\"Greater than 0\")\n",
    "\n",
    "    if (int_val % 2) != 1 and (int_val > 0):\n",
    "        print(\"Even Number\")\n",
    "        print(\"Greater than 0\")\n",
    "\n",
    "    if (int_val % 2) != 1 and (int_val < 0):\n",
    "        print(\"Even Number\")\n",
    "        print(\"Less than 0\")\n",
    "\n",
    "\n",
    "val = int(input(\"Enter an integer value: \"))\n",
    "print_int_information(int_val=val)"
   ]
  },
  {
   "cell_type": "code",
   "execution_count": null,
   "metadata": {
    "collapsed": false
   },
   "outputs": [],
   "source": [
    "%%HTML\n",
    "<iframe width=\"100%\" height=\"620\" frameborder=\"0\" src=\"http://pythontutor.com/iframe-embed.html#code=def%20print_int_information(int_val%29%3A%0A%20%20%20%20if%20(int_val%20%25%202%29%20%3D%3D%201%20and%20(int_val%20%3E%200%29%3A%0A%20%20%20%20%20%20%20%20print(%22Odd%20Number%22%29%0A%20%20%20%20%20%20%20%20print(%22Greater%20than%200%22%29%0A%0A%20%20%20%20if%20(int_val%20%25%202%29%20%3D%3D%201%20and%20(int_val%20%3C%200%29%3A%0A%20%20%20%20%20%20%20%20print(%22Odd%20Number%22%29%0A%20%20%20%20%20%20%20%20print(%22Greater%20than%200%22%29%0A%0A%20%20%20%20if%20(int_val%20%25%202%29%20!%3D%201%20and%20(int_val%20%3E%200%29%3A%0A%20%20%20%20%20%20%20%20print(%22Even%20Number%22%29%0A%20%20%20%20%20%20%20%20print(%22Greater%20than%200%22%29%0A%0A%20%20%20%20if%20(int_val%20%25%202%29%20!%3D%201%20and%20(int_val%20%3C%200%29%3A%0A%20%20%20%20%20%20%20%20print(%22Even%20Number%22%29%0A%20%20%20%20%20%20%20%20print(%22Less%20than%200%22%29%0A%0A%0Aval%20%3D%20int(input(%22Enter%20an%20integer%20value%3A%20%22%29%29%0Aprint_int_information(int_val%3Dval%29&codeDivHeight=400&codeDivWidth=350&cumulative=false&curInstr=0&heapPrimitives=true&origin=opt-frontend.js&py=3&rawInputLstJSON=%5B%22-13%22%5D&textReferences=false\">\n",
    "<p>Requires internet access / Draw on the board</p>\n",
    "</iframe>"
   ]
  },
  {
   "cell_type": "code",
   "execution_count": null,
   "metadata": {
    "collapsed": false,
    "slideshow": {
     "slide_type": "subslide"
    }
   },
   "outputs": [],
   "source": [
    "def print_int_information(int_val):\n",
    "    if (int_val % 2) == 1:\n",
    "        if (int_val > 0):\n",
    "            print(\"Odd Number\")\n",
    "            print(\"Greater than 0\")\n",
    "\n",
    "    if (int_val % 2) == 1:\n",
    "        if (int_val < 0):\n",
    "            print(\"Odd Number\")\n",
    "            print(\"Less than 0\")\n",
    "\n",
    "    if (int_val % 2) != 1:\n",
    "        if (int_val > 0):\n",
    "            print(\"Even Number\")\n",
    "            print(\"Greater than 0\")\n",
    "\n",
    "    if (int_val % 2) != 1:\n",
    "        if (int_val < 0):\n",
    "            print(\"Even Number\")\n",
    "            print(\"Less than 0\")\n",
    "\n",
    "\n",
    "val = int(input(\"Enter an integer value: \"))\n",
    "print_int_information(int_val=val)"
   ]
  },
  {
   "cell_type": "code",
   "execution_count": null,
   "metadata": {
    "collapsed": false
   },
   "outputs": [],
   "source": [
    "%%HTML\n",
    "<iframe width=\"100%\" height=\"620\" frameborder=\"0\" src=\"http://pythontutor.com/iframe-embed.html#code=def%20print_int_information(int_val%29%3A%0A%20%20%20%20if%20(int_val%20%25%202%29%20%3D%3D%201%3A%0A%20%20%20%20%20%20%20%20if%20(int_val%20%3E%200%29%3A%0A%20%20%20%20%20%20%20%20%20%20%20%20print(%22Odd%20Number%22%29%0A%20%20%20%20%20%20%20%20%20%20%20%20print(%22Greater%20than%200%22%29%0A%0A%20%20%20%20if%20(int_val%20%25%202%29%20%3D%3D%201%3A%0A%20%20%20%20%20%20%20%20if%20(int_val%20%3C%200%29%3A%0A%20%20%20%20%20%20%20%20%20%20%20%20print(%22Odd%20Number%22%29%0A%20%20%20%20%20%20%20%20%20%20%20%20print(%22Less%20than%200%22%29%0A%0A%20%20%20%20if%20(int_val%20%25%202%29%20!%3D%201%3A%0A%20%20%20%20%20%20%20%20if%20(int_val%20%3E%200%29%3A%0A%20%20%20%20%20%20%20%20%20%20%20%20print(%22Even%20Number%22%29%0A%20%20%20%20%20%20%20%20%20%20%20%20print(%22Greater%20than%200%22%29%0A%0A%20%20%20%20if%20(int_val%20%25%202%29%20!%3D%201%3A%0A%20%20%20%20%20%20%20%20if%20(int_val%20%3C%200%29%3A%0A%20%20%20%20%20%20%20%20%20%20%20%20print(%22Even%20Number%22%29%0A%20%20%20%20%20%20%20%20%20%20%20%20print(%22Less%20than%200%22%29%0A%0A%0Aval%20%3D%20int(input(%22Enter%20an%20integer%20value%3A%20%22%29%29%0Aprint_int_information(int_val%3Dval%29&codeDivHeight=400&codeDivWidth=350&cumulative=false&curInstr=0&heapPrimitives=true&origin=opt-frontend.js&py=3&rawInputLstJSON=%5B%22-13%22%5D&textReferences=false\">\n",
    "<p>Requires internet access / Draw on the board</p>\n",
    "</iframe>"
   ]
  },
  {
   "cell_type": "markdown",
   "metadata": {
    "slideshow": {
     "slide_type": "slide"
    }
   },
   "source": [
    "## Recap\n",
    "\n",
    "### If Statement\n",
    "\n",
    "- If-elif-else Statements\n",
    "    - Used to decide which code should be executed $\\to$ branching or flow control.\n",
    "    - Only 1 section of code inside a if-elif-else block is executed $\\to$ the first section where the condition is True $\\to$ if no condition is True then only the else section is executed\n",
    "    - Multiple decisions $\\to$ require multiple if-elif-else blocks\n",
    "    - Take care of the structure of the if-elif-else blocks $\\to$ problem specific $\\to$ elif and else sections may not be needed $\\to$ or multiple elif section may be needed\n",
    "    - Take care on the order in which you place if-elif-elif-else sections\n",
    "\n",
    "\n",
    "### Recap Quiz\n",
    "\n",
    "- What letter/s will get printed to the screen?"
   ]
  },
  {
   "cell_type": "code",
   "execution_count": null,
   "metadata": {
    "collapsed": false,
    "slideshow": {
     "slide_type": "subslide"
    }
   },
   "outputs": [],
   "source": [
    "def print_info(val):\n",
    "    if val > 0:\n",
    "        print('A')\n",
    "\n",
    "    if val != 50:\n",
    "        print('B')\n",
    "    elif val > 50:\n",
    "        print('C')\n",
    "    else:\n",
    "        print('D')\n",
    "\n",
    "\n",
    "print_info(val=34)"
   ]
  },
  {
   "cell_type": "markdown",
   "metadata": {
    "slideshow": {
     "slide_type": "slide"
    }
   },
   "source": [
    "- What letter/s will get printed to the screen?"
   ]
  },
  {
   "cell_type": "code",
   "execution_count": null,
   "metadata": {
    "collapsed": false,
    "slideshow": {
     "slide_type": "subslide"
    }
   },
   "outputs": [],
   "source": [
    "def print_info(val):\n",
    "    if val == 'a':\n",
    "        print('A')\n",
    "    elif val > 10:\n",
    "        if val != 20:\n",
    "            print('B')\n",
    "        if val > 12:\n",
    "            print('C')\n",
    "        elif val < 14:\n",
    "            print('D')\n",
    "    else:\n",
    "        print('E')\n",
    "\n",
    "\n",
    "print_info(val=12.45)"
   ]
  }
 ],
 "metadata": {
  "anaconda-cloud": {},
  "kernelspec": {
   "display_name": "Python [Root]",
   "language": "python",
   "name": "Python [Root]"
  },
  "language_info": {
   "codemirror_mode": {
    "name": "ipython",
    "version": 3
   },
   "file_extension": ".py",
   "mimetype": "text/x-python",
   "name": "python",
   "nbconvert_exporter": "python",
   "pygments_lexer": "ipython3",
   "version": "3.5.2"
  }
 },
 "nbformat": 4,
 "nbformat_minor": 0
}
