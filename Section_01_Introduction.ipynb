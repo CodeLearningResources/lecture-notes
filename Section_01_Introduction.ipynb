{
 "cells": [
  {
   "cell_type": "markdown",
   "metadata": {
    "nbpresent": {
     "id": "83c27746-4523-4caf-beda-30225630e032"
    },
    "slideshow": {
     "slide_type": "slide"
    }
   },
   "source": [
    "# Programming and Information Technology\n",
    "\n",
    "- [Welcome](#Welcome)\n",
    "- [Credit Application](#Credit-Application)\n",
    "- [Tutorials](#Tutorials)\n",
    "- [Tests & Exam](#Tests-&-Exam)\n",
    "- [Plagiarism](#Plagiarism)\n",
    "- [Roles & Responsibilities](#Roles-&-Responsibilities)\n",
    "- [Do's and Don'ts](#Do%27s-and-Don%27ts)\n",
    "- [Demos](#Demos)\n",
    "\n",
    "Lectures:\n",
    " - Mr. L Page and Mr. S Roux"
   ]
  },
  {
   "cell_type": "markdown",
   "metadata": {
    "nbpresent": {
     "id": "200b5dce-9c21-4299-a15b-52ff6e8011bb"
    },
    "slideshow": {
     "slide_type": "slide"
    }
   },
   "source": [
    "## Welcome\n",
    "\n",
    "Please check *ClickUP* regularly for updates.\n",
    "\n",
    "- Welcome and Overview\n",
    "\n",
    "- Please read the study guide\n",
    "\n",
    "- All communication via ClickUP\n",
    "\n",
    "- Software and study material $\\to$ ClickUP\n",
    "\n",
    "- Tutorial information and assignments $\\to$ ClickUP"
   ]
  },
  {
   "cell_type": "markdown",
   "metadata": {},
   "source": [
    "## Lecture Notes\n",
    "\n",
    "- Download from GitHub (https://github.com/mpr213/lecture-notes/releases)\n",
    "  - Click on the ``Source code (zip)`` download\n",
    "  - Save to your PC and extract the files\n",
    "- These lecture notes are designed to be viewed using Jupyter Notebook (https://jupyter.org) which can easily be installed through Anaconda (https://www.continuum.io/downloads)\n",
    "- All examples in the lecture notes are written / developed using Python 3.6\n",
    "- To open Jupyter from a specific folder in Windows please refer to the youtube video https://youtu.be/JId0f7URtOQ\n",
    "- These lecture notes also make use of the notebook extension ``nbtutor`` (https://github.com/lgpage/nbtutor) which can be installed:\n",
    "  - First install Anaconda (https://www.continuum.io/downloads)\n",
    "  - Then open the Windows Command Prompt as Administrator (See https://www.youtube.com/watch?v=btg5hYs72gc)\n",
    "  - In the Command Prompt type the following and hit enter\n",
    "  ```\n",
    "  conda install -c conda-forge nbtutor\n",
    "  ```\n",
    "  - Note: Installing ``nbtutor`` requires an internet connection"
   ]
  },
  {
   "cell_type": "markdown",
   "metadata": {
    "nbpresent": {
     "id": "13ff89bd-e2b1-4526-b261-79757cc95f72"
    },
    "slideshow": {
     "slide_type": "slide"
    }
   },
   "source": [
    "## Credit Application\n",
    "\n",
    "- Application form:\n",
    "    - From Student Admin (Eng I, Floor 6)\n",
    "    - Submit completed form to Mr L Page (Eng III, 6-93) **before 17:00 on 17 February 2017**\n",
    "    - Along with academic record and study guides\n",
    "\n",
    "\n",
    "- Credit Assessment Exam:\n",
    "    - Date: **24 February 2017**\n",
    "    - Venue: NW2 PhD Lab\n",
    "    - Time: **14:00 to 15:30** (90min)\n",
    "\n",
    "\n",
    "- Detailed instructions $\\to$ Study Guide"
   ]
  },
  {
   "cell_type": "markdown",
   "metadata": {
    "nbpresent": {
     "id": "6465b0bb-5e3e-42bc-95b8-35a461e0670c"
    },
    "slideshow": {
     "slide_type": "slide"
    }
   },
   "source": [
    "## Tutorial Sessions\n",
    "- Covers the concepts discussed in class the previous week.\n",
    "- Not compulsory $\\to$ not for marks\n",
    "- Interact and discuss with tutors\n",
    "- Get assistance with concepts and problems\n",
    "- Don’t expect the tutors to do the work for you !! $\\to$ They are there to give guidance only $\\to$ There to help you help yourself."
   ]
  },
  {
   "cell_type": "markdown",
   "metadata": {
    "nbpresent": {
     "id": "7b9beb1c-c1c4-4821-9cd0-603f2e71f4ac"
    },
    "slideshow": {
     "slide_type": "slide"
    }
   },
   "source": [
    "## Tutorial Assignments\n",
    "- Covers the concepts discussed in class the previous week.\n",
    "- Compulsory $\\to$ for marks\n",
    "- Will be uploaded to ClickUP\n",
    "- Due each week Friday before 17:00\n",
    "\n",
    "\n",
    "- Detailed instructions on ClickUP !!\n",
    "    - All uploaded files will be checked for plagiarism\n",
    "    - All answers will be marked electronically (I.e. by a computer)\n",
    "    - All answers are graded binary (right or wrong)\n",
    "    - No queries regarding tutorial assignments will be entertained\n",
    "    - Late submissions will get 0"
   ]
  },
  {
   "cell_type": "markdown",
   "metadata": {
    "nbpresent": {
     "id": "f895807d-b77d-4d56-8fc7-c408a94706f3"
    },
    "slideshow": {
     "slide_type": "slide"
    }
   },
   "source": [
    "## Tests & Exams\n",
    "\n",
    "-   Closed book tests.\n",
    "-   Writen in the computer labs, with access to a PC\n",
    "-   Anaconda, Jupyter-Notebook, Spyder, and LibreOffice help documentation is available\n",
    "-   Detailed test instruction $\\to$ ClickUP"
   ]
  },
  {
   "cell_type": "markdown",
   "metadata": {
    "nbpresent": {
     "id": "e57a3223-c554-432c-b58d-415802b9bd0e"
    },
    "slideshow": {
     "slide_type": "slide"
    }
   },
   "source": [
    "## Plagiarism\n",
    "\n",
    "- Still an issue and not worth the risk:\n",
    "    -   Several students expelled for cheating in test and exams\n",
    "    -   Several students with strikes against their names for copying assignments (tutorial and group project)\n",
    "\n",
    "\n",
    "- Make sure you know what plagiarism is about:\n",
    "    -   Verbatim copying\n",
    "    -   Patch writing\n",
    "    -   Ghost writing\n",
    "    -   Etc.\n",
    "\n",
    "\n",
    "- More Information:\n",
    "    - [UP Library](http://www.library.up.ac.za/plagiarism/)\n",
    "    - [Plagiarism.org](http://www.plagiarism.org/plagiarism-101/)\n",
    "\n",
    "\n",
    "- Plagiarism degrades the integrity of your qualification at the end of the day"
   ]
  },
  {
   "cell_type": "markdown",
   "metadata": {
    "nbpresent": {
     "id": "7cd9cc9a-a461-457f-aab6-3a09f447a566"
    },
    "slideshow": {
     "slide_type": "slide"
    }
   },
   "source": [
    "## Skill Development Stage\n",
    "\n",
    "<img src=\"./figures/skill_dev_stage.svg\" alt=\"Skill Development Stage\" style=\"height: 400px;\"/>\n",
    "- MPR213 $\\to$ Skill development based subject."
   ]
  },
  {
   "cell_type": "markdown",
   "metadata": {
    "nbpresent": {
     "id": "f3c5b2dc-e15a-4e2a-ae7a-cf295e8e231f"
    },
    "slideshow": {
     "slide_type": "slide"
    }
   },
   "source": [
    "## Roles & Responsibilities\n",
    "\n",
    "<img src=\"./figures/ability_vs_challenge.svg\" alt=\"Ability vs Challenge\" style=\"height: 400px;\"/>"
   ]
  },
  {
   "cell_type": "markdown",
   "metadata": {
    "nbpresent": {
     "id": "5937ec9e-49a1-4447-a0e5-e1c5f9686f4b"
    },
    "slideshow": {
     "slide_type": "slide"
    }
   },
   "source": [
    "## Roles & Responsibilities\n",
    "\n",
    "<img src=\"./figures/ability_vs_attitude.svg\" alt=\"Ability vs Attitude\" style=\"height: 400px;\"/>\n",
    "- Which quadrant are you?"
   ]
  },
  {
   "cell_type": "markdown",
   "metadata": {
    "slideshow": {
     "slide_type": "slide"
    }
   },
   "source": [
    "## Do's and Don'ts\n",
    "\n",
    "  Do | Dont\n",
    "  ---|---\n",
    "  Take this to heart | Brush this off as a lecturer's ramblings\n",
    "  Practise programming daily | Try cram a few days before a test / exam\n",
    "  Try solve class examples on your own (before looking at the answers) | Only read / run the answer code and “think” you understand\n",
    "  Solve exercise problems, class examples, and assignment | Only solve the tutorial assignments\n",
    "  Persevere | Give up after 5 minutes and look at the solution\n",
    "  Play around with the code (change things) | Get code to work once and leave it at that\n",
    "  Understand each and every line of code | Be happy with just a general understanding\n",
    "  Go to tutorial sessions with any and all questions | Go to tutorial sessions just to do assignments\n",
    "\n",
    "- Can you (did you) learn to play the guitar in one day?\n",
    "- Can you learn (cram) programming in one day?\n",
    "\n",
    "\n",
    "- Can you (did you) learn to play the guitar by just reading sheet music?\n",
    "- Can you learn to program just by reading code?\n",
    "\n",
    "\n",
    "- Can you (did you) learn to play the guitar by only playing one song?\n",
    "- Can you learn to program by just doing the assignment questions?"
   ]
  },
  {
   "cell_type": "markdown",
   "metadata": {
    "nbpresent": {
     "id": "f4934ec2-e2b8-4786-9b7d-eff28599f52b"
    },
    "slideshow": {
     "slide_type": "slide"
    }
   },
   "source": [
    "## Demos\n",
    "\n",
    "- Calculation Demo\n",
    "    - Vector algebra (dot and cross product)\n",
    "    - Solve linear system of equations\n",
    "    - Compute eigenvalues\n",
    "\n",
    "\n",
    "- Plotting Demo\n",
    "\n",
    "\n",
    "- GUI Demo\n",
    "\n",
    "\n",
    "- Semester Project (Game – **TBC**)"
   ]
  },
  {
   "cell_type": "code",
   "execution_count": null,
   "metadata": {
    "collapsed": false,
    "nbpresent": {
     "id": "dc6384f2-6347-4fed-b571-b6d1a3da141a"
    },
    "scrolled": false,
    "slideshow": {
     "slide_type": "skip"
    }
   },
   "outputs": [],
   "source": []
  }
 ],
 "metadata": {
  "anaconda-cloud": {},
  "kernelspec": {
   "display_name": "Python [conda root]",
   "language": "python",
   "name": "conda-root-py"
  },
  "language_info": {
   "codemirror_mode": {
    "name": "ipython",
    "version": 3
   },
   "file_extension": ".py",
   "mimetype": "text/x-python",
   "name": "python",
   "nbconvert_exporter": "python",
   "pygments_lexer": "ipython3",
   "version": "3.5.2"
  },
  "nbpresent": {
   "slides": {},
   "themes": {
    "default": "9fb530aa-f386-4abb-9c66-3e59c05223aa",
    "theme": {}
   }
  }
 },
 "nbformat": 4,
 "nbformat_minor": 0
}
