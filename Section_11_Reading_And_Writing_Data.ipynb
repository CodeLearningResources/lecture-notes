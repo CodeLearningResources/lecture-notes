{
 "cells": [
  {
   "cell_type": "markdown",
   "metadata": {
    "slideshow": {
     "slide_type": "slide"
    }
   },
   "source": [
    "# Reading And Writing Data\n",
    "\n",
    "- [Overview](#Overview)\n",
    "- [Data From Excel](#Data-From-Excel)\n",
    "- [Data Into Python](#Data-Into-Python)\n",
    "- [Dictionaries Introduction](#Dictionaries-Introduction)\n",
    "- [Data From Python](#Data-From-Python)\n"
   ]
  },
  {
   "cell_type": "markdown",
   "metadata": {
    "slideshow": {
     "slide_type": "slide"
    }
   },
   "source": [
    "## Overview\n",
    "\n",
    "- In *Excel* $\\to$ save as `.csv` or `.xlsx` files\n",
    "- In *Python* $\\to$ use the `pandas` module\n",
    "- Further `pandas` documentation:\n",
    "    - [10 Minutes to Pandas](http://pandas.pydata.org/pandas-docs/stable/10min.html)\n",
    "    - [Pandas Tutorials](http://pandas.pydata.org/pandas-docs/stable/tutorials.html)"
   ]
  },
  {
   "cell_type": "markdown",
   "metadata": {
    "slideshow": {
     "slide_type": "slide"
    }
   },
   "source": [
    "## Getting Data In/Out\n",
    "\n",
    "### Data From *Excel*\n",
    "\n",
    "- Saving data $\\to$ Save As $\\to$ `xlsx Spreadsheet (.xlsx)`\n",
    "- Saving data $\\to$ Save As $\\to$ `Text CSV (.csv)`\n",
    "    - Export settings:\n",
    "        - Field delimiter $\\to$ separates data by this character\n",
    "- Saving data $\\to$ Save As $\\to$ `Microsoft Excel (.xlsx)`\n",
    "- `.csv` vs `.xlsx`\n",
    "    - `.csv` $\\to$ raw text data $\\to$ no formula are stored $\\to$ only values stored\n",
    "    - `.xlsx` $\\to$ store formula and values"
   ]
  },
  {
   "cell_type": "markdown",
   "metadata": {
    "slideshow": {
     "slide_type": "slide"
    }
   },
   "source": [
    "### Data Into *Python*\n",
    "\n",
    "- Load data with `pandas`:\n",
    "    - `pandas.read_csv(filename)`\n",
    "    - `pandas.read_excel(filename, sheet_name=sheet)`\n",
    "\n",
    "### Outcomes\n",
    "- load data into *Python*\n",
    "- `pandas` data frame object\n",
    "    - `index` $\\to$ row indexes\n",
    "    - `columns` $\\to$ column headings\n",
    "    - `values` $\\to$ `numpy` array of data\n",
    "- selecting data\n",
    "    - selecting one or more columns of data\n",
    "    - selecting one or more rows of data\n",
    "- plot darts (scatter plot)\n",
    "- plot histogram of darts distance"
   ]
  },
  {
   "cell_type": "code",
   "execution_count": 1,
   "metadata": {
    "scrolled": false,
    "slideshow": {
     "slide_type": "subslide"
    }
   },
   "outputs": [
    {
     "name": "stdout",
     "output_type": "stream",
     "text": [
      "    x coord  y coord   dist  in circle\n",
      "0     1.405   -1.217  1.859       True\n",
      "1     1.814   -0.096  1.817       True\n",
      "2    -0.857    1.391  1.633       True\n",
      "3    -0.125   -0.258  0.286       True\n",
      "4     1.714   -1.784  2.474      False\n",
      "5     0.535    0.609  0.811       True\n",
      "6     0.150    0.055  0.160       True\n",
      "7    -0.731    1.646  1.801       True\n",
      "8     0.205   -1.371  1.387       True\n",
      "9     1.096    0.639  1.269       True\n",
      "10   -1.733   -1.491  2.286      False\n",
      "11    1.287   -1.864  2.265      False\n",
      "12    0.548    0.233  0.595       True\n",
      "13   -1.293   -1.285  1.823       True\n",
      "14    0.335    0.204  0.392       True\n",
      "15   -0.574    0.257  0.629       True\n",
      "16   -1.296   -0.828  1.538       True\n",
      "17    0.560    1.776  1.862       True\n",
      "18    0.467    0.668  0.816       True\n",
      "19   -1.986   -0.816  2.147      False\n",
      "20    1.264    1.437  1.914       True\n",
      "21    0.825   -0.538  0.985       True\n",
      "22   -0.429    1.559  1.617       True\n",
      "23   -0.448   -0.358  0.574       True\n",
      "24    0.116    0.126  0.171       True\n",
      "25   -1.562    1.086  1.903       True\n",
      "26    1.677   -1.561  2.291      False\n",
      "27   -0.102    0.235  0.256       True\n",
      "28   -1.494    1.144  1.881       True\n",
      "29   -0.808   -0.845  1.169       True\n"
     ]
    },
    {
     "data": {
      "image/png": "[encoded data removed]",
      "text/plain": [
       "<Figure size 432x288 with 1 Axes>"
      ]
     },
     "metadata": {},
     "output_type": "display_data"
    },
    {
     "data": {
      "image/png": "[encoded data removed]",
      "text/plain": [
       "<Figure size 432x288 with 1 Axes>"
      ]
     },
     "metadata": {},
     "output_type": "display_data"
    }
   ],
   "source": [
    "%matplotlib inline\n",
    "import pandas as pd\n",
    "from matplotlib import pyplot as plt\n",
    "\n",
    "#pdata = pd.read_csv('data_files/darts_data.csv')\n",
    "pdata = pd.read_csv('data_files\\darts_data.csv')\n",
    "print(pdata)\n",
    "# print(pdata.index)\n",
    "# print(pdata.columns)\n",
    "# print(pdata.values)\n",
    "# print(pdata[['x coord', 'y coord']])\n",
    "# print(pdata.loc[[0, 1]])\n",
    "\n",
    "plt.figure(1)\n",
    "plt.plot(pdata['x coord'], pdata['y coord'], 'r*')\n",
    "\n",
    "plt.figure(2)\n",
    "plt.hist(pdata['dist'])\n",
    "\n",
    "plt.show()"
   ]
  },
  {
   "cell_type": "code",
   "execution_count": 2,
   "metadata": {
    "slideshow": {
     "slide_type": "subslide"
    }
   },
   "outputs": [
    {
     "data": {
      "image/png": "[encoded data removed]",
      "text/plain": [
       "<Figure size 432x288 with 1 Axes>"
      ]
     },
     "metadata": {},
     "output_type": "display_data"
    },
    {
     "data": {
      "image/png": "[encoded data removed]",
      "text/plain": [
       "<Figure size 432x288 with 1 Axes>"
      ]
     },
     "metadata": {},
     "output_type": "display_data"
    }
   ],
   "source": [
    "%matplotlib inline\n",
    "import pandas as pd\n",
    "from matplotlib import pyplot as plt\n",
    "\n",
    "#pdata = pd.read_excel('data_files/darts_data.xlsx', sheet_name='Sheet1')\n",
    "pdata = pd.read_excel('data_files\\darts_data.xlsx', sheet_name='Sheet1')\n",
    "# print(pdata)\n",
    "# print(pdata.index)\n",
    "# print(pdata.columns)\n",
    "# print(pdata.values)\n",
    "# print(pdata[['x coord', 'y coord']])\n",
    "# print(pdata.loc[[0, 1]])\n",
    "\n",
    "plt.figure(1)\n",
    "plt.plot(pdata['x coord'], pdata['y coord'], 'r*')\n",
    "\n",
    "plt.figure(2)\n",
    "plt.hist(pdata['dist'])\n",
    "\n",
    "plt.show()"
   ]
  },
  {
   "cell_type": "markdown",
   "metadata": {},
   "source": [
    "### Dictionaries Introduction\n",
    "\n",
    "- Dictionaries allow us to group objects under 1 name using keywords\n",
    "- Created using curly brackets `{}`\n",
    "- Can store any object types or mix of object types"
   ]
  },
  {
   "cell_type": "code",
   "execution_count": 3,
   "metadata": {},
   "outputs": [
    {
     "name": "stdout",
     "output_type": "stream",
     "text": [
      "{'x': [2, 5, 1, 0, 9], 'y': [1], 'z': [0, 1, 2], 'name': 'SomeName'}\n",
      "[2, 5, 1, 0, 9]\n",
      "SomeName\n",
      "2\n",
      "2\n"
     ]
    }
   ],
   "source": [
    "var = {\n",
    "    'x': [2, 5, 1, 0, 9],\n",
    "    'y': [1],\n",
    "    'z': [0, 1, 2],\n",
    "    'name': 'SomeName'\n",
    "}\n",
    "\n",
    "print(var)\n",
    "print(var['x'])\n",
    "print(var['name'])\n",
    "\n",
    "print(var['z'][2])\n",
    "\n",
    "lst = var['z']\n",
    "print(lst[2])"
   ]
  },
  {
   "cell_type": "code",
   "execution_count": 4,
   "metadata": {},
   "outputs": [
    {
     "name": "stdout",
     "output_type": "stream",
     "text": [
      "<class 'dict'>\n",
      "[4 2 5 1]\n",
      "[ 8  4 10  2]\n"
     ]
    }
   ],
   "source": [
    "import numpy as np\n",
    "\n",
    "data = {\n",
    "    'x': np.array([4, 2,  5, 1]),\n",
    "    'y': np.array([8, 4, 10, 2])\n",
    "}\n",
    "\n",
    "print(type(data))\n",
    "print(data['x'])\n",
    "print(data['y'])"
   ]
  },
  {
   "cell_type": "markdown",
   "metadata": {},
   "source": [
    "- `pandas` data frame objects are just \"cleaver\" dictionary like objects"
   ]
  },
  {
   "cell_type": "markdown",
   "metadata": {},
   "source": [
    "### Example - Calculating molar mass\n",
    "\n",
    "- Calculate the molar mass of Glucose\n",
    "$$C_6 H_{12} O_6$$"
   ]
  },
  {
   "cell_type": "code",
   "execution_count": 5,
   "metadata": {},
   "outputs": [
    {
     "name": "stdout",
     "output_type": "stream",
     "text": [
      "180\n"
     ]
    }
   ],
   "source": [
    "atomic_weight = {\n",
    "    'H': 1,\n",
    "    'C': 12,\n",
    "    'N': 14,\n",
    "    'O': 16,\n",
    "    'S': 32\n",
    "}\n",
    "\n",
    "syms = ['C', 'H', 'O']\n",
    "mult = [ 6,   12,  6 ]\n",
    "\n",
    "mass = 0\n",
    "for i in range(len(syms)):\n",
    "    s = syms[i]\n",
    "    m = mult[i]\n",
    "    w = atomic_weight[s]\n",
    "    mass = mass + (w * m)\n",
    "print(mass)"
   ]
  },
  {
   "cell_type": "code",
   "execution_count": 6,
   "metadata": {},
   "outputs": [
    {
     "name": "stdout",
     "output_type": "stream",
     "text": [
      "180\n"
     ]
    }
   ],
   "source": [
    "atomic_weight = {'H': 1, 'C': 12, 'N': 14, 'O': 16, 'S': 32}\n",
    "\n",
    "def molar_mass(formula):\n",
    "    total = 0\n",
    "    for character in formula:\n",
    "        if character in atomic_weight:\n",
    "            weight = atomic_weight[character]\n",
    "            multiplier = 1\n",
    "        else:\n",
    "            multiplier = int(character) - 1\n",
    "        total = total + weight * multiplier\n",
    "    return total\n",
    "\n",
    "\n",
    "formula = ['C', 6, 'H', 12, 'O', 6]\n",
    "mass = molar_mass(formula)\n",
    "print(mass)"
   ]
  },
  {
   "cell_type": "markdown",
   "metadata": {
    "slideshow": {
     "slide_type": "slide"
    }
   },
   "source": [
    "### Data From *Python*\n",
    "\n",
    "- Create a `pandas` data frame object\n",
    "- Write data:\n",
    "    - `pandas.to_csv(filename)`\n",
    "    - `pandas.to_excel(filename, sheet_name=sheet)`\n",
    "\n",
    "### Outcomes\n",
    "- Creating a `pandas` data frame object\n",
    "- Writing the data to `.csv` or `.xlsx` files"
   ]
  },
  {
   "cell_type": "code",
   "execution_count": 7,
   "metadata": {
    "slideshow": {
     "slide_type": "subslide"
    }
   },
   "outputs": [],
   "source": [
    "import numpy as np\n",
    "import pandas as pd\n",
    "\n",
    "x = np.linspace(0, 10, 100)\n",
    "y = x**2 + 10\n",
    "\n",
    "data = {\n",
    "    'x coords': x,\n",
    "    'y coords': y,\n",
    "}\n",
    "\n",
    "pdata = pd.DataFrame(data)\n",
    "\n",
    "pdata.to_csv('mydata.csv')\n",
    "pdata.to_excel('mydata.xlsx', sheet_name='Sheet2')"
   ]
  },
  {
   "cell_type": "markdown",
   "metadata": {},
   "source": [
    "### Example - Experimental Data\n",
    "\n",
    "- Consider an experimental setup whereby air is forced through a rectangular channel. Inside this channel there are several obstacles (cylindrical pins) that obstruct the flow.\n",
    "\n",
    "\n",
    "- The flow velocity and pressure is measured at 39 different points along the the channel with pressure taps\n",
    "\n",
    "\n",
    "- 50 data readings are taken for each of the pressure taps\n",
    "\n",
    "\n",
    "- Plot an error bar plot showing the statistical accuracy of the data readings for each probe\n",
    "\n",
    "\n",
    "###  Outcomes:\n",
    "\n",
    "- `array.reshape` function\n",
    "\n",
    "\n",
    "- Box plot (Error bar plot)"
   ]
  },
  {
   "cell_type": "code",
   "execution_count": 8,
   "metadata": {},
   "outputs": [
    {
     "data": {
      "image/png": "[encoded data removed]",
      "text/plain": [
       "<Figure size 432x288 with 1 Axes>"
      ]
     },
     "metadata": {},
     "output_type": "display_data"
    }
   ],
   "source": [
    "%matplotlib inline\n",
    "#%matplotlib qt5\n",
    "import pandas as pd\n",
    "from matplotlib import pyplot as plt\n",
    "\n",
    "dataframe = pd.read_csv('data_files/experimental_data.csv', sep='\\t')\n",
    "\n",
    "renolds = dataframe['Re'].values\n",
    "renolds = renolds.reshape((50, 39))\n",
    "\n",
    "plt.boxplot(renolds)\n",
    "plt.title(\"Error Bar Plot of Reynolds Number\")\n",
    "plt.xlabel(\"Probe Number\")\n",
    "plt.ylabel(\"Reynolds Number\")\n",
    "plt.show()"
   ]
  },
  {
   "cell_type": "markdown",
   "metadata": {},
   "source": [
    "### Re-shape in Numpy"
   ]
  },
  {
   "cell_type": "code",
   "execution_count": 9,
   "metadata": {},
   "outputs": [
    {
     "data": {
      "text/plain": [
       "array([[1, 6],\n",
       "       [2, 7],\n",
       "       [3, 8],\n",
       "       [4, 9],\n",
       "       [5, 0]])"
      ]
     },
     "execution_count": 9,
     "metadata": {},
     "output_type": "execute_result"
    }
   ],
   "source": [
    "import numpy as np\n",
    "aa = np.array([1,2,3,4,5,6,7,8,9,0])\n",
    "bb = np.copy(aa)\n",
    "aa = np.reshape(aa,(5,2),'F')\n",
    "aa"
   ]
  },
  {
   "cell_type": "code",
   "execution_count": 10,
   "metadata": {},
   "outputs": [
    {
     "data": {
      "text/plain": [
       "array([[1, 2],\n",
       "       [3, 4],\n",
       "       [5, 6],\n",
       "       [7, 8],\n",
       "       [9, 0]])"
      ]
     },
     "execution_count": 10,
     "metadata": {},
     "output_type": "execute_result"
    }
   ],
   "source": [
    "bb = np.reshape(bb,(5,2))\n",
    "bb"
   ]
  },
  {
   "cell_type": "code",
   "execution_count": null,
   "metadata": {},
   "outputs": [],
   "source": []
  }
 ],
 "metadata": {
  "anaconda-cloud": {},
  "kernelspec": {
   "display_name": "Python 3",
   "language": "python",
   "name": "python3"
  },
  "language_info": {
   "codemirror_mode": {
    "name": "ipython",
    "version": 3
   },
   "file_extension": ".py",
   "mimetype": "text/x-python",
   "name": "python",
   "nbconvert_exporter": "python",
   "pygments_lexer": "ipython3",
   "version": "3.7.1"
  }
 },
 "nbformat": 4,
 "nbformat_minor": 1
}
