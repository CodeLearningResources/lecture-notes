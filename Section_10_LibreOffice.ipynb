{
 "cells": [
  {
   "cell_type": "markdown",
   "metadata": {
    "slideshow": {
     "slide_type": "slide"
    }
   },
   "source": [
    "# LibreOffice\n",
    "\n",
    "- [Overview](#Overview)\n",
    "- [Keyboard Shortcuts](#Keyboard-Shortcuts)\n",
    "- [Linear Programming](#Linear-Programming)\n",
    "- [Sort, Filters and Pivot Tables](#Sort,-Filters-and-Pivot-Tables)\n",
    "- [Additional LP](#Additional-LP)\n",
    "- [Exploring Spreadsheets](#Exploring-Spreadsheets)\n",
    "- [Exploring Spreadsheets and Extracting Data](#Exploring-Spreadsheets-and-Extracting-Data)\n"
   ]
  },
  {
   "cell_type": "markdown",
   "metadata": {
    "slideshow": {
     "slide_type": "slide"
    }
   },
   "source": [
    "## Overview\n",
    "\n",
    "- LibreOffice $\\to$ free and open source office suite $\\to$ create word documents, spreadsheets, slide-shows, diagrams, etc.\n",
    "\n",
    "\n",
    "- LibreOffice Calc $\\to$ used for creating and manipulating spreadsheets $\\to$ visual data processing and manipulation\n",
    "\n",
    "\n",
    "- Documentation on ClickUP\n",
    "     - `CalcGuide.pdf` $\\to$ complete guide on how to use LibreOffice Calc\n",
    "     - `calc_guide_information.pdf` $\\to$ summary document describing which sections of the `CalcGuide.pdf` will be covered $\\to$ also includes some exercise problems\n",
    "     - Short 5 minute tutorial videos $\\to$ could be useful to work through\n",
    "\n",
    "\n",
    "- First Look at LibreOffice Calc\n",
    "     - Workbook (spreadsheet) $\\to$ consists of several sheets\n",
    "     - Each sheet consists of cells\n",
    "     - Each cell can store either numerical values; string data; or a formula calculation\n",
    "     - Each cell has a column-row name (e.g. `D4`)"
   ]
  },
  {
   "cell_type": "markdown",
   "metadata": {
    "slideshow": {
     "slide_type": "subslide"
    }
   },
   "source": [
    "### Outcomes:\n",
    "- Opening and Saving a workbook (spreadsheet)\n",
    "\n",
    "\n",
    "- Workbook (spreadsheet) structure\n",
    "\n",
    "\n",
    "- Adding data to a cell (numerical or string data)\n",
    "\n",
    "\n",
    "- Adding or removing sheets\n",
    "\n",
    "\n",
    "- The name box and referencing a cell\n",
    "\n",
    "\n",
    "- Simple calculations\n",
    "\n",
    "\n",
    "- Power (Python) $\\to$ `2**3`\n",
    "\n",
    "\n",
    "- Power (LibreOffice Calc) $\\to$ `2^3`"
   ]
  },
  {
   "cell_type": "markdown",
   "metadata": {
    "slideshow": {
     "slide_type": "slide"
    }
   },
   "source": [
    "### Example - Approximation pi\n",
    "\n",
    "<img src=\"./figures/darts_pi_approx.svg\" alt=\"Pi Approximation Darts\" style=\"height: 300px;\"/>"
   ]
  },
  {
   "cell_type": "markdown",
   "metadata": {
    "slideshow": {
     "slide_type": "slide"
    }
   },
   "source": [
    "- Areas: \n",
    "\n",
    "    $$ \\frac{Ac}{As} = \\frac{\\frac{\\pi R^2}{4}}{\\frac{4 R^2}{4}} = \\frac{\\pi}{4} $$\n",
    "\n",
    "\n",
    "- Approximation (Throwing darts):\n",
    "\n",
    "    $$\\frac{\\text{darts in circle}}{\\text{darts in square}} \\approx \\frac{\\pi}{4}$$\n",
    "\n",
    "\n",
    "- Generating the data:\n",
    "    - random x and y coordinates $\\to$ one cell for each\n",
    "    - each row represents each dart thrown $\\to$ comparable to Python’s for loop\n",
    "    - calculate the distance from the origin $\\to$ separate column\n",
    "    - test if the dart is inside the circle $\\to$ separate column"
   ]
  },
  {
   "cell_type": "markdown",
   "metadata": {
    "slideshow": {
     "slide_type": "subslide"
    }
   },
   "source": [
    "### Outcomes:\n",
    "- Function Wizard\n",
    "\n",
    "\n",
    "- `RAND()` function\n",
    "\n",
    "\n",
    "- Dragging a formula (calculation) down $\\to$ or double clicking\n",
    "\n",
    "\n",
    "- `IF()` statement\n",
    "\n",
    "\n",
    "- `SUM()`, `COUNTA()`, and `COUNTIF()` functions\n",
    "\n",
    "\n",
    "- Conditional formatting"
   ]
  },
  {
   "cell_type": "markdown",
   "metadata": {
    "slideshow": {
     "slide_type": "slide"
    }
   },
   "source": [
    "## Keyboard Shortcuts\n",
    " - Why learn keyboard shortcuts?\n",
    "     - faster to work with spreadsheets\n",
    "     - working with large spreadsheets is a pain if you don’t learn keyboard shortcuts\n",
    " \n",
    " \n",
    " - General:\n",
    "    - `Ctrl + c` $\\to$ copy information\n",
    "    - `Ctrl + x` $\\to$ cut information\n",
    "    - `Ctrl + v` $\\to$ paste information (whatever was copied or cut)\n",
    "    - `Ctrl + z` $\\to$ undo previous command\n",
    "    - `Ctrl + y` $\\to$ redo what was undone"
   ]
  },
  {
   "cell_type": "markdown",
   "metadata": {
    "slideshow": {
     "slide_type": "slide"
    }
   },
   "source": [
    "## Keyboard Shortcuts\n",
    "- Cell navigation and data selection:\n",
    "    - `Shift + arrow` keys $\\to$ select multiple rows and / or columns of data\n",
    "    - `Ctrl + arrow` keys $\\to$ move through data quickly in the arrow key direction $\\to$ move to the edge of the current data range\n",
    "    - `Ctrl + Shift` + arrow keys $\\to$ move to and select data up to the edge of the current data range in the direction of the arrow key\n",
    "    - `Ctrl + Home` $\\to$ move to the first cell in the sheet (cell `A1`)\n",
    "    - `Ctrl + End` $\\to$ move to the last cell in the sheet that contains data"
   ]
  },
  {
   "cell_type": "markdown",
   "metadata": {
    "slideshow": {
     "slide_type": "slide"
    }
   },
   "source": [
    "## Keyboard Shortcuts\n",
    "- Sheet navigation:\n",
    "    - `Ctrl + Page Up` $\\to$ Move one sheet to the left\n",
    "    - `Ctrl + Page Down` $\\to$ Move one sheet to the right\n",
    "\n",
    "\n",
    "- Other:\n",
    "    - `F1` $\\to$ opens LibreOffice Calc help documentation\n",
    "    - `F9` $\\to$ recalculates all the formula in the sheet\n",
    "    - See Appendix A of the `CalcGuide` for a complete list of keyboard shortcuts"
   ]
  },
  {
   "cell_type": "markdown",
   "metadata": {
    "slideshow": {
     "slide_type": "slide"
    }
   },
   "source": [
    "### Example - Approximation pi\n",
    "\n",
    "<img src=\"./figures/darts_pi_approx.svg\" alt=\"Pi Approximation Darts\" style=\"height: 300px;\"/>"
   ]
  },
  {
   "cell_type": "markdown",
   "metadata": {
    "slideshow": {
     "slide_type": "subslide"
    }
   },
   "source": [
    "- Plotting the darts.\n",
    "- Create a scatter Plot:\n",
    "     - With and without separating the darts by colour (inside circle vs outside)\n",
    "- Create a histogram Plot $\\to$ of the distance of the dart from the origin"
   ]
  },
  {
   "cell_type": "markdown",
   "metadata": {
    "slideshow": {
     "slide_type": "subslide"
    }
   },
   "source": [
    "### Outcomes:\n",
    "- Adding a sheet + renaming a sheet + sheet colour\n",
    "\n",
    "\n",
    "- Referencing cells on another sheet\n",
    "\n",
    "\n",
    "- Splitting the y coordinate into 2 data ranges\n",
    "\n",
    "\n",
    "- Scatter plot + data ranges + changing the plot icon\n",
    "\n",
    "\n",
    "- Graph annotations\n",
    "\n",
    "\n",
    "- `FREQUENCY()` function + concept of arrays in LibreOffice Calc\n",
    "\n",
    "\n",
    "- Bar chart    "
   ]
  },
  {
   "cell_type": "markdown",
   "metadata": {
    "slideshow": {
     "slide_type": "slide"
    }
   },
   "source": [
    "### Example - Example of motion\n",
    "\n",
    "- An object is release from rest 20 meters above the ground. Experimental velocity readings are taken every 0.05 seconds.\n",
    "- The experimental data is saved in a `.csv` file.\n",
    "- Load the experimental data into LibreOffice Calc\n",
    "- Calculate the height of the object using $s = s_0 − (v + v_0)(t / 2)$\n",
    "- Compare the experimental data with the theoretical equations, using $v(s) = gt + v_0$.\n",
    "- Visualise (plot) the comparison\n",
    "- Use the velocity equation of motion (determined from the experimental data) and the Goal Seek tool to solve for the required height to get a final velocity of 3.5 $m/s$"
   ]
  },
  {
   "cell_type": "markdown",
   "metadata": {
    "slideshow": {
     "slide_type": "subslide"
    }
   },
   "source": [
    "### Outcomes:\n",
    "- Opening a `.csv` file\n",
    "- Saving the workbook as a `.ods` file\n",
    "- Plot the data (height vs time and velocity vs height)\n",
    "- XY Scatter plot vs a Line plot\n",
    "- Help documentation\n",
    "- Adding trend lines:\n",
    "    - Linear: $y = ax + b$\n",
    "    - Log: $a\\ln(x) + b$\n",
    "    - Exp: $a e^{bx}$\n",
    "    - Power: $ax^b$\n",
    "- What is a good \"fit\" for a trend line? $\\to$ $R^2$ coefficient $\\to$ closer to 1 the better the \"fit\"\n",
    "- Plot theoretical equation (velocity vs height)\n",
    "- Using the Goal Seek tool"
   ]
  },
  {
   "cell_type": "markdown",
   "metadata": {
    "slideshow": {
     "slide_type": "slide"
    }
   },
   "source": [
    "## Linear Programming\n",
    "\n",
    "### Example - Copper and Aluminium Wire\n",
    "\n",
    "**A wire plant manufactures copper and aluminium wire.**\n",
    "\n",
    "Every kilogram of aluminium wire requires 5 kWh of electricity and 1/4 hour of labour.\n",
    "\n",
    "Every kilogram of copper wire requires 2 kWh of electricity and 1/2 hour of labour.\n",
    "\n",
    "Supply restriction limit the production of copper wire to 60 kg/day.\n",
    "\n",
    "Electricity is restricted to 500 kWh/day and labour to 40 person - hours/day.\n",
    "\n",
    "If the profit from aluminium wire is 0.25/kg and the profit from copper is 0.40/kg, how much of each should be produced to maximise profit and what is the maximum profit?"
   ]
  },
  {
   "cell_type": "markdown",
   "metadata": {
    "slideshow": {
     "slide_type": "slide"
    }
   },
   "source": [
    "- Mathematically:\n",
    "    - Variables:\n",
    "        - $x$ $\\to$ kg of aluminium\n",
    "        - $y$ $\\to$ kg of copper\n",
    "    - Goal is to maximise $0.25x + 0.4y$\n",
    "    - Constraints:\n",
    "        - $y \\leq 60$\n",
    "        - $5x + 2y \\leq 500$\n",
    "        - $0.25x + 0.5y \\leq 40$\n",
    "        - $x \\geq 0$\n",
    "        - $y \\geq 0$"
   ]
  },
  {
   "cell_type": "markdown",
   "metadata": {
    "slideshow": {
     "slide_type": "subslide"
    }
   },
   "source": [
    "### Outcomes:\n",
    "- Identify appropriate variables from linear programming word problem.\n",
    "- Identify whether real, integer or binary variables are appropriate.\n",
    "- Rewrite a linear programming word problem into appropriate mathematical equations, namely cost and constraint functions.\n",
    "- Solve linear programming problem using `Tools −> Solver`.\n",
    "- Able to enable integer and binary variables in Solver.\n",
    "- Interpret the result."
   ]
  },
  {
   "cell_type": "markdown",
   "metadata": {
    "slideshow": {
     "slide_type": "slide"
    }
   },
   "source": [
    "## Sort, Filters and Pivot Tables\n",
    "\n",
    "- Consider the Ideal gas law: $PV = nRT$\n",
    "- Consider a workbook containing measured data.\n",
    "     - Analyse the data using Filters `Data −> Filter −> AutoFilter`\n",
    "     - Pivot tables `Data −> Pivot Table −> Create`\n",
    "        - Which pressure has the most measurements?\n",
    "        - For which temperatures did the volume exceed 0.05 cubic meters?\n",
    "        - Do the highest and lowest pressures correspond to the expected Temperature and Volume combinations?"
   ]
  },
  {
   "cell_type": "markdown",
   "metadata": {
    "slideshow": {
     "slide_type": "subslide"
    }
   },
   "source": [
    "### Outcomes:\n",
    "- Able to use sort, filters and pivot tables to analyse data efficiently.\n",
    "- Pivot tables understand various roles of page, row, column and data fields.\n",
    "- Understand importance of appropriate labels for data using various functions."
   ]
  },
  {
   "cell_type": "markdown",
   "metadata": {
    "slideshow": {
     "slide_type": "slide"
    }
   },
   "source": [
    "## Additional LP\n",
    "\n",
    "A rural factory produces sand, cement and bricks at a profit of R0.1 per kg of washed sand, R20.00 per bag of cement and R0.50 per brick.\n",
    "\n",
    "The following materials are used to make the respective products:\n",
    "\n",
    "\n",
    "  | Raw material   | Bricks (brick) | Cement (bag) | Sand (kg) |\n",
    "  | -------------- | -------------- | ------------ | --------- |\n",
    "  | Sand (kg)      |  0.7           | 1.4          | 1.1       |\n",
    "  | Limestone (kg) |  0.5           | 15           | 0         |\n",
    "  | Clay (kg)      |  0.5           | 5.3          | 0         |\n",
    "  | Fly ash (kg)   |  0.5           | 10           | 0         |\n",
    "  | Water (l)      |  1             | 5            | 2         |"
   ]
  },
  {
   "cell_type": "markdown",
   "metadata": {
    "slideshow": {
     "slide_type": "slide"
    }
   },
   "source": [
    "The available resources are 5 tons of sand, 10 tons of limestone, 1 ton of clay, 5 ton of fly ash and a million litre of water.\n",
    "\n",
    "What is the maximum profit that can be made available?\n",
    "\n",
    "- Variables:\n",
    "    - kg of `sand` (real parameter)\n",
    "    - bags of `cement` (integer)\n",
    "    - number of `bricks` (integer)\n",
    "- Goal is to maximise `0.10 × sand + 20.00 × cement + 0.5 × bricks`\n",
    "- Constraints:\n",
    "    - `0.7 × brick + 1.4 × cement + 1.1 × sand` $\\leq$ `5000`\n",
    "    - `0.5 × brick + 15 × cement` $\\leq$ `10000`\n",
    "    - `0.5 × brick + 5.3 × cement` $\\leq$ `1000`\n",
    "    - `0.5 × brick + 10 × cement` $\\leq$ `50000`\n",
    "    - `brick + 5 × cement + 2 × sand` $\\leq$ `1000000`"
   ]
  },
  {
   "cell_type": "markdown",
   "metadata": {
    "slideshow": {
     "slide_type": "subslide"
    }
   },
   "source": [
    "### Outcomes:\n",
    "- Identify appropriate variables from linear programming word problem.\n",
    "- Identify whether real, integer or binary variables are appropriate.\n",
    "- Rewrite a linear programming word problem into appropriate mathematical equations, namely cost and constraint functions.\n",
    "- Solve linear programming problem using `Tools −> Solver`.\n",
    "- Able to enable integer and binary variables in Solver.\n",
    "- Interpret the result."
   ]
  },
  {
   "cell_type": "markdown",
   "metadata": {
    "slideshow": {
     "slide_type": "slide"
    }
   },
   "source": [
    "## Exploring Spreadsheets\n",
    "\n",
    "Quickly and efficiently explore large spreadsheets that are new to you.\n",
    "\n",
    "- Window $\\to$ Freeze\n",
    "- Window $\\to$ Split\n",
    "    - Horizontal only\n",
    "    - Vertical only\n",
    "    - Horizontal and vertical\n",
    "- Tools $\\to$ Detective\n",
    "    - Precedents\n",
    "    - Dependants"
   ]
  },
  {
   "cell_type": "markdown",
   "metadata": {
    "slideshow": {
     "slide_type": "slide"
    }
   },
   "source": [
    "## Exploring Spreadsheets and Extracting Data\n",
    "\n",
    "Extracting data from spreadsheets.\n",
    "\n",
    "- `VLOOKUP` finds the information in a table based on a unique search criterion and returns data from a column index of your choice. First column of data range has to be unique identifier.\n",
    "- `HLOOKUP` finds the information in a table based on a unique search criterion and returns data from a row index of your choice.\n",
    "- `MATCH` allows you to obtain the index of an array that matches a specific value.\n",
    "- `INDEX` allows you to obtain data stored at a specific row and column index for data range."
   ]
  },
  {
   "cell_type": "markdown",
   "metadata": {
    "slideshow": {
     "slide_type": "slide"
    }
   },
   "source": [
    "### Outcomes:\n",
    "- Efficiently familiarise and explore large spreadsheets created by other people.\n",
    "- Extract data from data ranges.\n",
    "- Use extracted data to do additional calculations."
   ]
  },
  {
   "cell_type": "code",
   "execution_count": null,
   "metadata": {
    "collapsed": false,
    "slideshow": {
     "slide_type": "subslide"
    }
   },
   "outputs": [],
   "source": []
  }
 ],
 "metadata": {
  "anaconda-cloud": {},
  "kernelspec": {
   "display_name": "Python 3",
   "language": "python",
   "name": "python3"
  },
  "language_info": {
   "codemirror_mode": {
    "name": "ipython",
    "version": 3
   },
   "file_extension": ".py",
   "mimetype": "text/x-python",
   "name": "python",
   "nbconvert_exporter": "python",
   "pygments_lexer": "ipython3",
   "version": "3.6.4"
  }
 },
 "nbformat": 4,
 "nbformat_minor": 1
}
