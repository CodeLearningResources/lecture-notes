{
 "cells": [
  {
   "cell_type": "markdown",
   "metadata": {
    "slideshow": {
     "slide_type": "slide"
    }
   },
   "source": [
    "# Arrays\n",
    "\n",
    "- [Arrays Recap](#Arrays-Recap)\n",
    "- [Lists vs Arrays](#Lists-vs-Arrays)\n",
    "- [Matrices](#Matrices)\n"
   ]
  },
  {
   "cell_type": "markdown",
   "metadata": {
    "slideshow": {
     "slide_type": "slide"
    }
   },
   "source": [
    "## Arrays - Recap\n",
    "\n",
    "### Example - Vector vector multiplication\n",
    "\n",
    "- Use python to calculate:\n",
    "\n",
    "$$\n",
    "\\begin{bmatrix}\n",
    "    2.4 & 4.2 & 8.1 \\\\\n",
    "\\end{bmatrix}\n",
    "\\cdot\n",
    "\\begin{bmatrix}\n",
    "     7.3 \\\\\n",
    "    12.2 \\\\\n",
    "     6.1 \\\\\n",
    "\\end{bmatrix}\n",
    "$$\n",
    "\n",
    "\n",
    "### Outcomes:\n",
    "\n",
    "- looping through 2 corresponding numpy arrays\n",
    "\n",
    "\n",
    "- Indexing a numpy array (accessing the elements)\n",
    "\n",
    "\n",
    "- `numpy.dot` function"
   ]
  },
  {
   "cell_type": "code",
   "execution_count": null,
   "metadata": {
    "collapsed": false,
    "slideshow": {
     "slide_type": "subslide"
    }
   },
   "outputs": [],
   "source": [
    "import numpy as np\n",
    "\n",
    "vec1 = np.array([2.4, 4.2, 8.1])\n",
    "vec2 = np.array([7.3, 12.2, 6.1])\n",
    "\n",
    "prodsum = 0\n",
    "for i in range(len(vec1)):\n",
    "    prodsum = prodsum + (vec1[i] * vec2[i])\n",
    "\n",
    "print(\"Manual dot calculation:\", prodsum)\n",
    "print(\"Manual dot calculation:\", np.sum(vec1 * vec2))\n",
    "print(\"Numpy dot calculation:\", np.dot(vec1, vec2))"
   ]
  },
  {
   "cell_type": "markdown",
   "metadata": {},
   "source": [
    "## Lists vs Arrays\n",
    "\n",
    "- Indexing:\n",
    "     - Elements in `list`s and `array`s are accessed (indexed) the same way $\\to$ square brackets after the name $\\to$ `data[ind]`\n",
    "\n",
    "\n",
    "- List Computations:\n",
    "     - Need to loop through a list in order to compute something using the list elements"
   ]
  },
  {
   "cell_type": "code",
   "execution_count": null,
   "metadata": {
    "collapsed": false
   },
   "outputs": [],
   "source": [
    "# 0.1 * [1, 2, 3, 4]\n",
    "data = [1, 2, 3, 4]\n",
    "for i in range(0, len(data), 1):\n",
    "    data[i] = data[i] * 0.1\n",
    "print(data)"
   ]
  },
  {
   "cell_type": "markdown",
   "metadata": {},
   "source": [
    "- `array` computations:\n",
    "     - No need to loop through an array in order to compute something using the array elements:"
   ]
  },
  {
   "cell_type": "code",
   "execution_count": null,
   "metadata": {
    "collapsed": false
   },
   "outputs": [],
   "source": [
    "import numpy as np\n",
    "\n",
    "# 0.1 * [1, 2, 3, 4]\n",
    "data = np.array([1, 2, 3, 4])\n",
    "data = data * 0.1\n",
    "print(data)"
   ]
  },
  {
   "cell_type": "markdown",
   "metadata": {},
   "source": [
    "- `array` computations:\n",
    "    - All computations are done on an element-by-element basis of the array object\n",
    "    - Arrays need to be the same length (size)"
   ]
  },
  {
   "cell_type": "code",
   "execution_count": null,
   "metadata": {
    "collapsed": false
   },
   "outputs": [],
   "source": [
    "import numpy as np\n",
    "\n",
    "# 0.1 * [1, 2, 3, 4]\n",
    "data = np.array([1, 2, 3, 4])\n",
    "scale = np.array([10, 2, 3, 1])\n",
    "print(data * scale)"
   ]
  },
  {
   "cell_type": "markdown",
   "metadata": {},
   "source": [
    "## Matrices\n",
    "\n",
    "### Overview\n",
    "\n",
    "- 2D data structure $\\to$ 2D indexing\n",
    "$$\n",
    "\\text{col} \\\\\n",
    "\\text{row}\n",
    "\\begin{array}{l|cccc}\n",
    "      & 0 & 1 & 2 & 3 \\\\\n",
    "    \\hline\n",
    "    0 & 10 & 12 & 14 & 16 \\\\\n",
    "    1 & 20 & 22 & 24 & 26 \\\\\n",
    "    2 & 30 & 32 & 34 & 36 \\\\\n",
    "    3 & 50 & 52 & 54 & 56 \\\\\n",
    "\\end{array}\n",
    "$$\n",
    "\n",
    "\n",
    "- Indexing $\\to$ `matrix[row, col]` $\\to$ `row` first, then `col`"
   ]
  },
  {
   "cell_type": "code",
   "execution_count": null,
   "metadata": {
    "collapsed": false
   },
   "outputs": [],
   "source": [
    "import numpy as np\n",
    "\n",
    "mat = np.array([\n",
    "    [10, 12, 14, 16],\n",
    "    [20, 22, 24, 26],\n",
    "    [30, 32, 34, 36],\n",
    "    [50, 52, 54, 56],\n",
    "])\n",
    "\n",
    "print(mat)\n",
    "print(\"\\nmat[0, 2]:\", mat[0, 2])\n",
    "print(\"mat[2, 3]:\", mat[2, 3])"
   ]
  },
  {
   "cell_type": "markdown",
   "metadata": {},
   "source": [
    "- `array` operators:\n",
    "    - `+ − ∗ / ∗∗` etc $\\to$ same as normal number mathematics → done on an element-by-element bases\n",
    "        - Can do operations with `arrays` and numbers\n",
    "            - Eg. `arr3 = arr1 + 12.5`\n",
    "        - Can do operations with `arrays` and `arrays`\n",
    "            - Eg. `arr3 = arr1 + arr2` $\\to$ **arrays must be the same shape !!**\n",
    "    - Operator priority $\\to$ same as mathematical priority"
   ]
  },
  {
   "cell_type": "code",
   "execution_count": null,
   "metadata": {
    "collapsed": false
   },
   "outputs": [],
   "source": [
    "import numpy as np\n",
    "\n",
    "mat = np.array([\n",
    "    [10, 12, 14, 16],\n",
    "    [20, 22, 24, 26],\n",
    "    [30, 32, 34, 36],\n",
    "    [50, 52, 54, 56],\n",
    "])\n",
    "\n",
    "print(mat * 2, \"\\n\")\n",
    "print(mat * mat)"
   ]
  },
  {
   "cell_type": "markdown",
   "metadata": {
    "slideshow": {
     "slide_type": "slide"
    }
   },
   "source": [
    "### Example - Matrix vector multiplication\n",
    "\n",
    "- For example use python to calculate:\n",
    "\n",
    "$$\n",
    "\\begin{bmatrix}\n",
    "    2.4 & 4.2 & 8.1 \\\\\n",
    "    9.1 & 3.9 & 7.2 \\\\\n",
    "    0.2 & 3.9 & 3.0\n",
    "\\end{bmatrix} \\cdot \n",
    "\\begin{bmatrix}\n",
    "    7.3 \\\\ \n",
    "    12.2 \\\\\n",
    "    6.1\n",
    "\\end{bmatrix}\n",
    "$$\n",
    "\n",
    "\n",
    "### Outcomes:\n",
    "\n",
    "- `numpy` `array.shape` attribute\n",
    "\n",
    "\n",
    "- manual calculation of the dot product\n",
    "\n",
    "\n",
    "- looping through a matrix\n",
    "\n",
    "\n",
    "- Indexing a matrix (accessing the elements)\n",
    "\n",
    "\n",
    "- `numpy.zeros` function\n",
    "\n",
    "\n",
    "- `numpy.dot` function"
   ]
  },
  {
   "cell_type": "code",
   "execution_count": null,
   "metadata": {
    "collapsed": false
   },
   "outputs": [],
   "source": [
    "import numpy as np\n",
    "\n",
    "def my_dot(mat, vec):\n",
    "    rows, cols = mat.shape\n",
    "    dotprod = np.zeros(rows)\n",
    "    for i in range(rows):\n",
    "        prodsum = 0\n",
    "        for j in range(cols):\n",
    "            prodsum = prodsum + (mat[i, j] * vec[j])\n",
    "        dotprod[i] = prodsum\n",
    "    return dotprod"
   ]
  },
  {
   "cell_type": "code",
   "execution_count": null,
   "metadata": {
    "collapsed": false,
    "slideshow": {
     "slide_type": "subslide"
    }
   },
   "outputs": [],
   "source": [
    "import numpy as np\n",
    "\n",
    "mat = np.array([\n",
    "    [2.4, 4.2, 8.1],\n",
    "    [9.1, 3.9, 7.2],\n",
    "    [0.2, 3.9, 3.0]\n",
    "])\n",
    "vec = np.array([7.3, 12.2, 6.1])\n",
    "\n",
    "print(\"Manual dot calculation:\", my_dot(mat, vec))\n",
    "print(\"Numpy dot calculation:\", np.dot(mat, vec))"
   ]
  },
  {
   "cell_type": "markdown",
   "metadata": {
    "slideshow": {
     "slide_type": "slide"
    }
   },
   "source": [
    "### Example - Matrix matrix multiplication\n",
    "\n",
    "- For example use python to calculate:\n",
    "\n",
    "$$\n",
    "\\begin{bmatrix}\n",
    "    2.4 & 4.2 & 8.1 \\\\\n",
    "    9.1 & 3.9 & 7.2 \\\\\n",
    "    0.2 & 3.9 & 3.0\n",
    "\\end{bmatrix} \\cdot\n",
    "\\begin{bmatrix}\n",
    "    7.3 & 4.2 \\\\\n",
    "    12.2 & 9.6 \\\\\n",
    "    6.1 & 12.4\n",
    "\\end{bmatrix}\n",
    "$$\n",
    "\n",
    "\n",
    "### Outcomes:\n",
    "\n",
    "- `numpy` `array.shape` attribute\n",
    "\n",
    "\n",
    "- manual calculation of the dot product\n",
    "\n",
    "\n",
    "- looping through a matrix\n",
    "\n",
    "\n",
    "- Indexing a matrix (accessing the elements)\n",
    "\n",
    "\n",
    "- `numpy.zeros` function\n",
    "\n",
    "\n",
    "- `numpy.dot` function"
   ]
  },
  {
   "cell_type": "code",
   "execution_count": null,
   "metadata": {
    "collapsed": false,
    "slideshow": {
     "slide_type": "subslide"
    }
   },
   "outputs": [],
   "source": [
    "import numpy as np\n",
    "\n",
    "def my_dot_v1(mat1, mat2):\n",
    "    rows1, cols1 = mat1.shape\n",
    "    rows2, cols2 = mat2.shape\n",
    "    dotprod = np.zeros((rows1, cols2))\n",
    "\n",
    "    for i in range(rows1):\n",
    "        for j in range(cols2):\n",
    "            prodsum = 0\n",
    "            for k in range(cols1):\n",
    "                prodsum = prodsum + (mat1[i, k] * mat2[k, j])\n",
    "            dotprod[i, j] = prodsum\n",
    "    return dotprod\n",
    "\n",
    "\n",
    "def my_dot_v2(mat1, mat2):\n",
    "    rows1, cols1 = mat1.shape\n",
    "    rows2, cols2 = mat2.shape\n",
    "    dotprod = np.zeros((rows1, cols2))\n",
    "\n",
    "    for i in range(rows1):\n",
    "        for j in range(cols2):\n",
    "            prodsum = np.sum(mat1[i, :] * mat2[:, j])\n",
    "            dotprod[i, j] = prodsum\n",
    "    return dotprod"
   ]
  },
  {
   "cell_type": "code",
   "execution_count": null,
   "metadata": {
    "collapsed": false,
    "slideshow": {
     "slide_type": "subslide"
    }
   },
   "outputs": [],
   "source": [
    "import numpy as np\n",
    "\n",
    "mat1 = np.array([\n",
    "    [2.4, 4.2, 8.1],\n",
    "    [9.1, 3.9, 7.2],\n",
    "    [0.2, 3.9, 3.0]\n",
    "])\n",
    "\n",
    "mat2 = np.array([\n",
    "    [ 7.3, 4.2 ],\n",
    "    [12.2, 9.6 ],\n",
    "    [ 6.1, 12.4]\n",
    "])\n",
    "\n",
    "print(\"Manual dot calculation 1:\")\n",
    "print(my_dot_v1(mat1, mat2))\n",
    "print(\"\\nManual dot calculation 2:\")\n",
    "print(my_dot_v2(mat1, mat2))\n",
    "print(\"\\nNumpy dot calculation:\")\n",
    "print(np.dot(mat1, mat2))"
   ]
  },
  {
   "cell_type": "markdown",
   "metadata": {
    "slideshow": {
     "slide_type": "slide"
    }
   },
   "source": [
    "### Example - Upper diagonal sum versus diagonal sum\n",
    "\n",
    "- Use python to calculate whether the sum of the upper diagonal components of a matrix is more than the diagonal components of the matrix:\n",
    "\n",
    "$$\n",
    "\\begin{bmatrix}\n",
    "    2.4 & 4.2 & 8.1 \\\\\n",
    "    9.1 & 3.9 & 7.2 \\\\\n",
    "    0.2 & 3.9 & 3.0\n",
    "\\end{bmatrix}\n",
    "$$\n",
    "\n",
    "\n",
    "### Outcomes:\n",
    "\n",
    "- `numpy` `array.shape` attribute\n",
    "\n",
    "\n",
    "- looping through parts of a matrix\n",
    "\n",
    "\n",
    "- nested looping in which the counters are related to each other\n",
    "\n",
    "\n",
    "- Indexing a matrix (accessing specfic elements)"
   ]
  },
  {
   "cell_type": "code",
   "execution_count": null,
   "metadata": {
    "collapsed": false,
    "slideshow": {
     "slide_type": "subslide"
    }
   },
   "outputs": [],
   "source": [
    "import numpy as np\n",
    "\n",
    "def sum_mat_components(mat):\n",
    "    diag = 0\n",
    "    upper = 0\n",
    "    lower = 0\n",
    "\n",
    "    rows, cols = mat.shape\n",
    "    for i in range(rows):\n",
    "        for j in range(cols):\n",
    "            if i == j:\n",
    "                diag = diag + mat[i, j]\n",
    "            if i > j:\n",
    "                lower = lower + mat[i, j]\n",
    "            if j > i:\n",
    "                upper = upper + mat[i, j]\n",
    "\n",
    "    return diag, lower, upper"
   ]
  },
  {
   "cell_type": "code",
   "execution_count": null,
   "metadata": {
    "collapsed": false,
    "slideshow": {
     "slide_type": "subslide"
    }
   },
   "outputs": [],
   "source": [
    "import numpy as np\n",
    "\n",
    "mat = np.array([\n",
    "    [2.4, 4.2, 8.1],\n",
    "    [9.1, 3.9, 7.2],\n",
    "    [0.2, 3.9, 3.0]\n",
    "])\n",
    "\n",
    "diag, lower, upper = sum_mat_components(mat)\n",
    "\n",
    "print(\"Sum of lower diag components:\", lower)\n",
    "print(\"Sum of upper diag components:\", upper)\n",
    "print(\"Sum of diag components:\", diag)\n",
    "if upper > diag:\n",
    "    print(\"The matrix is upper diagonally dominant\")\n",
    "else:\n",
    "    print(\"The matrix is not upper diagonally dominant\")"
   ]
  },
  {
   "cell_type": "markdown",
   "metadata": {
    "slideshow": {
     "slide_type": "slide"
    }
   },
   "source": [
    "### Example - Replace matrix values\n",
    "\n",
    "- Write a python function that take a matrix as an input\n",
    "\n",
    "\n",
    "- The function must return a new matrix where:\n",
    "    - all the 1’s have been replaced by 2’s, and\n",
    "    - all the 2’s have been replaced by 1’s\n",
    "\n",
    "\n",
    "- Use the following matrix to test the function:\n",
    "\n",
    "$$\n",
    "\\begin{bmatrix}\n",
    "    0 & 0 & 1 & 1 \\\\\n",
    "    0 & 1 & 1 & 1 \\\\\n",
    "    0 & 2 & 1 & 0 \\\\\n",
    "    2 & 0 & 2 & 0\n",
    "\\end{bmatrix}\n",
    "$$\n",
    "\n",
    "\n",
    "### Outcomes:\n",
    "\n",
    "- Working with lists or arrays as function inputs\n",
    "\n",
    "\n",
    "- Creating a new matrix (copy of another matrix)\n",
    "\n",
    "\n",
    "- Not modifying the original matrix"
   ]
  },
  {
   "cell_type": "code",
   "execution_count": null,
   "metadata": {
    "collapsed": false,
    "slideshow": {
     "slide_type": "subslide"
    }
   },
   "outputs": [],
   "source": [
    "import numpy as np\n",
    "\n",
    "def replace_vals(mat):\n",
    "    matcopy = np.copy(mat)\n",
    "    rows, cols = mat.shape\n",
    "    for i in range(rows):\n",
    "        for j in range(cols):\n",
    "            if matcopy[i, j] == 1:\n",
    "                matcopy[i, j] = 2\n",
    "            elif matcopy[i, j] == 2:\n",
    "                matcopy[i, j] = 1\n",
    "    \n",
    "    return matcopy            "
   ]
  },
  {
   "cell_type": "code",
   "execution_count": null,
   "metadata": {
    "collapsed": false,
    "slideshow": {
     "slide_type": "subslide"
    }
   },
   "outputs": [],
   "source": [
    "import numpy as np\n",
    "\n",
    "mat = np.array([\n",
    "    [0, 0, 1, 1],\n",
    "    [0, 1, 1, 1],\n",
    "    [0, 2, 1, 0],\n",
    "    [2, 0, 2, 0]\n",
    "])\n",
    "\n",
    "smat = replace_vals(mat)\n",
    "print (\"Original: \")\n",
    "print (mat)\n",
    "print (\"\\nSwop 1’s and 2’s: \")\n",
    "print (smat)"
   ]
  },
  {
   "cell_type": "code",
   "execution_count": null,
   "metadata": {
    "collapsed": false,
    "slideshow": {
     "slide_type": "skip"
    }
   },
   "outputs": [],
   "source": []
  }
 ],
 "metadata": {
  "anaconda-cloud": {},
  "kernelspec": {
   "display_name": "Python [Root]",
   "language": "python",
   "name": "Python [Root]"
  },
  "language_info": {
   "codemirror_mode": {
    "name": "ipython",
    "version": 3
   },
   "file_extension": ".py",
   "mimetype": "text/x-python",
   "name": "python",
   "nbconvert_exporter": "python",
   "pygments_lexer": "ipython3",
   "version": "3.5.2"
  }
 },
 "nbformat": 4,
 "nbformat_minor": 0
}
